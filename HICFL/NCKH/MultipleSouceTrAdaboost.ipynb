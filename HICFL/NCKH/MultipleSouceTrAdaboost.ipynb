{
 "cells": [
  {
   "cell_type": "code",
   "execution_count": 27,
   "metadata": {},
   "outputs": [],
   "source": [
    "from flwr.common import (\n",
    "    EvaluateIns,\n",
    "    EvaluateRes,\n",
    "    FitIns,\n",
    "    FitRes,\n",
    "    MetricsAggregationFn,\n",
    "    NDArrays,\n",
    "    Parameters,\n",
    "    Scalar,\n",
    "    ndarrays_to_parameters,\n",
    "    parameters_to_ndarrays,\n",
    ")\n",
    "import flwr as fl\n",
    "import pandas as pd\n",
    "from typing import Callable, Dict, List, Optional, Tuple, Union\n",
    "from sklearn.model_selection import train_test_split\n",
    "from sklearn.metrics import accuracy_score, precision_score, recall_score, f1_score, roc_auc_score, roc_curve\n",
    "import numpy as np\n",
    "import tensorflow as tf\n",
    "from tensorflow.keras.models import Sequential\n",
    "from tensorflow.keras.layers import Conv2D, MaxPool2D, Flatten, Dense, Dropout\n",
    "from flwr.server.strategy.aggregate import aggregate\n",
    "from flwr.server.client_proxy import ClientProxy"
   ]
  },
  {
   "cell_type": "code",
   "execution_count": 28,
   "metadata": {},
   "outputs": [],
   "source": [
    "# https://drive.google.com/drive/u/1/folders/1-AbVA2945Ep1IadGEnXa9AjeDFwh-Bwl"
   ]
  },
  {
   "cell_type": "code",
   "execution_count": 29,
   "metadata": {},
   "outputs": [],
   "source": [
    "NUM_FEATURE = 256\n",
    "NUM_CLASSES = 3\n",
    "PACKET_NUM = 20\n",
    "client_lr = 3e-4\n",
    "NUM_EPOCHS = 30\n",
    "BATCH_SIZE = 16"
   ]
  },
  {
   "cell_type": "code",
   "execution_count": 30,
   "metadata": {},
   "outputs": [],
   "source": [
    "def most_frequent(List):\n",
    "    return max(set(List), key=List.count)\n",
    "\n",
    "\n",
    "def data_processing(df, NUM_FEATURES):\n",
    "   y_train = df['Label']\n",
    "   flow_id = df['flow_id']\n",
    "\n",
    "   df = df/255\n",
    "\n",
    "   X_train = df.drop(['Label', 'flow_id'], axis=1)\n",
    "   X_train = X_train.to_numpy()\n",
    "\n",
    "   X_train = X_train.reshape(-1, 20, NUM_FEATURES)\n",
    "   y_train = y_train.to_numpy()\n",
    "\n",
    "   y_train = y_train.reshape(-1, 20)[:, -1]\n",
    "   return X_train, y_train"
   ]
  },
  {
   "cell_type": "code",
   "execution_count": 31,
   "metadata": {},
   "outputs": [],
   "source": [
    "import pandas as pd\n",
    "import numpy as np\n",
    "# Đọc dữ liệu từ file feather\n",
    "diff_1_distribution = pd.read_feather(\n",
    "    './Bản sao của A_data1.feather')\n",
    "diff_2_distribution = pd.read_feather(\n",
    "    './Bản sao của A_data2.feather')\n",
    "train_distribution = pd.read_feather(\n",
    "    './df0.09.feather')\n",
    "eval_distribution = pd.read_feather(\n",
    "    './df0.91.feather')\n",
    "\n",
    "x_train1, y_train1 = data_processing(\n",
    "    diff_1_distribution, NUM_FEATURE)\n",
    "x_train2, y_train2 = data_processing(\n",
    "    diff_2_distribution, NUM_FEATURE)\n",
    "x_train3, y_train3 = data_processing(\n",
    "    train_distribution, NUM_FEATURE)\n",
    "x_test, y_test = data_processing(\n",
    "    eval_distribution, NUM_FEATURE)\n",
    "\n",
    "x_train1, y_train1 = np.concatenate((x_train1, x_train3)), np.concatenate((y_train1, y_train3))\n",
    "x_train2, y_train2 = np.concatenate((x_train2, x_train3)), np.concatenate((y_train2, y_train3))\n",
    "list_x_train = [x_train1, x_train2]\n",
    "list_y_train = [y_train1, y_train2]\n"
   ]
  },
  {
   "cell_type": "code",
   "execution_count": 32,
   "metadata": {},
   "outputs": [],
   "source": [
    "from flwr.server.strategy.fedavg import FedAvg\n",
    "class FedImp(FedAvg):\n",
    "    def aggregate_fit(\n",
    "        self,\n",
    "        server_round: int,\n",
    "        results: List[Tuple[ClientProxy, FitRes]],\n",
    "        failures: List[Union[Tuple[ClientProxy, FitRes], BaseException]],\n",
    "    ) -> Tuple[Optional[Parameters], Dict[str, Scalar]]:\n",
    "    \n",
    "        weights_results = [\n",
    "                (parameters_to_ndarrays(fit_res.parameters), fit_res.num_examples*np.exp(fit_res.metrics[\"er\"]))\n",
    "            \n",
    "                for _, fit_res in results\n",
    "            ]\n",
    "        aggregated_ndarrays = aggregate(weights_results)\n",
    "        parameters_aggregated = ndarrays_to_parameters(aggregated_ndarrays)\n",
    "        metrics_aggregated = {}\n",
    "        return parameters_aggregated, metrics_aggregated"
   ]
  },
  {
   "cell_type": "code",
   "execution_count": 33,
   "metadata": {},
   "outputs": [
    {
     "name": "stderr",
     "output_type": "stream",
     "text": [
      "INFO flwr 2024-06-23 19:39:41,161 | app.py:178 | Starting Flower simulation, config: ServerConfig(num_rounds=10, round_timeout=None)\n",
      "2024-06-23 19:39:46,852\tINFO worker.py:1724 -- Started a local Ray instance.\n",
      "INFO flwr 2024-06-23 19:39:47,806 | app.py:213 | Flower VCE: Ray initialized with resources: {'memory': 75056505856.0, 'object_store_memory': 36452788224.0, 'CPU': 16.0, 'node:192.168.39.172': 1.0, 'node:__internal_head__': 1.0}\n",
      "INFO flwr 2024-06-23 19:39:47,808 | app.py:219 | Optimize your simulation with Flower VCE: https://flower.dev/docs/framework/how-to-run-simulations.html\n",
      "INFO flwr 2024-06-23 19:39:47,812 | app.py:242 | Flower VCE: Resources for each Virtual Client: {'num_cpus': 8, 'num_gpus': 0}\n",
      "INFO flwr 2024-06-23 19:39:47,834 | app.py:288 | Flower VCE: Creating VirtualClientEngineActorPool with 2 actors\n",
      "INFO flwr 2024-06-23 19:39:47,836 | server.py:89 | Initializing global parameters\n",
      "INFO flwr 2024-06-23 19:39:47,839 | server.py:276 | Requesting initial parameters from one random client\n",
      "\u001b[36m(pid=72868)\u001b[0m 2024-06-23 19:39:48.798731: E external/local_xla/xla/stream_executor/cuda/cuda_dnn.cc:9261] Unable to register cuDNN factory: Attempting to register factory for plugin cuDNN when one has already been registered\n",
      "\u001b[36m(pid=72868)\u001b[0m 2024-06-23 19:39:48.798788: E external/local_xla/xla/stream_executor/cuda/cuda_fft.cc:607] Unable to register cuFFT factory: Attempting to register factory for plugin cuFFT when one has already been registered\n",
      "\u001b[36m(pid=72868)\u001b[0m 2024-06-23 19:39:48.800289: E external/local_xla/xla/stream_executor/cuda/cuda_blas.cc:1515] Unable to register cuBLAS factory: Attempting to register factory for plugin cuBLAS when one has already been registered\n",
      "\u001b[36m(pid=72868)\u001b[0m 2024-06-23 19:39:49.778731: W tensorflow/compiler/tf2tensorrt/utils/py_utils.cc:38] TF-TRT Warning: Could not find TensorRT\n",
      "\u001b[36m(DefaultActor pid=72869)\u001b[0m /home/bkcs/anaconda3/lib/python3.11/site-packages/ray/_private/pydantic_compat.py:2: DeprecationWarning: pkg_resources is deprecated as an API. See https://setuptools.pypa.io/en/latest/pkg_resources.html\n",
      "\u001b[36m(DefaultActor pid=72869)\u001b[0m   from pkg_resources import packaging\n",
      "\u001b[36m(DefaultActor pid=72869)\u001b[0m /home/bkcs/anaconda3/lib/python3.11/site-packages/pkg_resources/__init__.py:2846: DeprecationWarning: Deprecated call to `pkg_resources.declare_namespace('sphinxcontrib')`.\n",
      "\u001b[36m(DefaultActor pid=72869)\u001b[0m Implementing implicit namespace packages (as specified in PEP 420) is preferred to `pkg_resources.declare_namespace`. See https://setuptools.pypa.io/en/latest/references/keywords.html#keyword-namespace-packages\n",
      "\u001b[36m(DefaultActor pid=72869)\u001b[0m   declare_namespace(pkg)\n",
      "\u001b[36m(DefaultActor pid=72869)\u001b[0m /home/bkcs/anaconda3/lib/python3.11/site-packages/pkg_resources/__init__.py:2846: DeprecationWarning: Deprecated call to `pkg_resources.declare_namespace('zope')`.\n",
      "\u001b[36m(DefaultActor pid=72869)\u001b[0m Implementing implicit namespace packages (as specified in PEP 420) is preferred to `pkg_resources.declare_namespace`. See https://setuptools.pypa.io/en/latest/references/keywords.html#keyword-namespace-packages\n",
      "\u001b[36m(DefaultActor pid=72869)\u001b[0m   declare_namespace(pkg)\n",
      "\u001b[36m(DefaultActor pid=72869)\u001b[0m /home/bkcs/anaconda3/lib/python3.11/site-packages/flwr/simulation/ray_transport/ray_actor.py:72: DeprecationWarning:  Ensure your client is of type `flwr.client.Client`. Please convert it using the `.to_client()` method before returning it in the `client_fn` you pass to `start_simulation`. We have applied this conversion on your behalf. Not returning a `Client` might trigger an error in future versions of Flower.\n",
      "\u001b[36m(DefaultActor pid=72869)\u001b[0m   client = check_clientfn_returns_client(client_fn(cid))\n",
      "INFO flwr 2024-06-23 19:39:52,114 | server.py:280 | Received initial parameters from one random client\n",
      "INFO flwr 2024-06-23 19:39:52,115 | server.py:91 | Evaluating initial parameters\n",
      "\u001b[33m(raylet)\u001b[0m [2024-06-23 19:39:55,829 E 72039 72072] (raylet) file_system_monitor.cc:111: /tmp/ray/session_2024-06-23_19-39-42_969375_64620 is over 95% full, available space: 2487767040; capacity: 51989970944. Object creation will fail if spilling is required.\n",
      "\u001b[36m(pid=72869)\u001b[0m 2024-06-23 19:39:48.866884: E external/local_xla/xla/stream_executor/cuda/cuda_dnn.cc:9261] Unable to register cuDNN factory: Attempting to register factory for plugin cuDNN when one has already been registered\n",
      "\u001b[36m(pid=72869)\u001b[0m 2024-06-23 19:39:48.866928: E external/local_xla/xla/stream_executor/cuda/cuda_fft.cc:607] Unable to register cuFFT factory: Attempting to register factory for plugin cuFFT when one has already been registered\n",
      "\u001b[36m(pid=72869)\u001b[0m 2024-06-23 19:39:48.868410: E external/local_xla/xla/stream_executor/cuda/cuda_blas.cc:1515] Unable to register cuBLAS factory: Attempting to register factory for plugin cuBLAS when one has already been registered\n",
      "\u001b[36m(pid=72869)\u001b[0m 2024-06-23 19:39:49.852555: W tensorflow/compiler/tf2tensorrt/utils/py_utils.cc:38] TF-TRT Warning: Could not find TensorRT\n"
     ]
    },
    {
     "name": "stdout",
     "output_type": "stream",
     "text": [
      "254/254 - 5s - loss: 1.0811 - sparse_categorical_accuracy: 0.5233 - 5s/epoch - 20ms/step\n"
     ]
    },
    {
     "name": "stderr",
     "output_type": "stream",
     "text": [
      "\u001b[33m(raylet)\u001b[0m [2024-06-23 19:40:05,958 E 72039 72072] (raylet) file_system_monitor.cc:111: /tmp/ray/session_2024-06-23_19-39-42_969375_64620 is over 95% full, available space: 2487750656; capacity: 51989970944. Object creation will fail if spilling is required.\n",
      "INFO flwr 2024-06-23 19:40:06,131 | server.py:94 | initial parameters (loss, other metrics): 1.081117033958435, {'accuracy': 0.5232744812965393, 'precision': 0.9998765279664156, 'recall': 0.5232744783306581, 'f1score': 0.687009845253189}\n",
      "INFO flwr 2024-06-23 19:40:06,131 | server.py:104 | FL starting\n",
      "DEBUG flwr 2024-06-23 19:40:06,132 | server.py:222 | fit_round 1: strategy sampled 2 clients (out of 2)\n",
      "\u001b[36m(DefaultActor pid=72868)\u001b[0m /home/bkcs/anaconda3/lib/python3.11/site-packages/ray/_private/pydantic_compat.py:2: DeprecationWarning: pkg_resources is deprecated as an API. See https://setuptools.pypa.io/en/latest/pkg_resources.html\n",
      "\u001b[36m(DefaultActor pid=72868)\u001b[0m   from pkg_resources import packaging\n",
      "\u001b[36m(DefaultActor pid=72868)\u001b[0m /home/bkcs/anaconda3/lib/python3.11/site-packages/pkg_resources/__init__.py:2846: DeprecationWarning: Deprecated call to `pkg_resources.declare_namespace('sphinxcontrib')`.\n",
      "\u001b[36m(DefaultActor pid=72868)\u001b[0m Implementing implicit namespace packages (as specified in PEP 420) is preferred to `pkg_resources.declare_namespace`. See https://setuptools.pypa.io/en/latest/references/keywords.html#keyword-namespace-packages\n",
      "\u001b[36m(DefaultActor pid=72868)\u001b[0m   declare_namespace(pkg)\n",
      "\u001b[36m(DefaultActor pid=72868)\u001b[0m /home/bkcs/anaconda3/lib/python3.11/site-packages/pkg_resources/__init__.py:2846: DeprecationWarning: Deprecated call to `pkg_resources.declare_namespace('zope')`.\n",
      "\u001b[36m(DefaultActor pid=72868)\u001b[0m Implementing implicit namespace packages (as specified in PEP 420) is preferred to `pkg_resources.declare_namespace`. See https://setuptools.pypa.io/en/latest/references/keywords.html#keyword-namespace-packages\n",
      "\u001b[36m(DefaultActor pid=72868)\u001b[0m   declare_namespace(pkg)\n",
      "\u001b[36m(DefaultActor pid=72868)\u001b[0m /home/bkcs/anaconda3/lib/python3.11/site-packages/flwr/simulation/ray_transport/ray_actor.py:72: DeprecationWarning:  Ensure your client is of type `flwr.client.Client`. Please convert it using the `.to_client()` method before returning it in the `client_fn` you pass to `start_simulation`. We have applied this conversion on your behalf. Not returning a `Client` might trigger an error in future versions of Flower.\n",
      "\u001b[36m(DefaultActor pid=72868)\u001b[0m   client = check_clientfn_returns_client(client_fn(cid))\n",
      "\u001b[33m(raylet)\u001b[0m [2024-06-23 19:40:15,963 E 72039 72072] (raylet) file_system_monitor.cc:111: /tmp/ray/session_2024-06-23_19-39-42_969375_64620 is over 95% full, available space: 2487726080; capacity: 51989970944. Object creation will fail if spilling is required.\n",
      "\u001b[33m(raylet)\u001b[0m [2024-06-23 19:40:26,361 E 72039 72072] (raylet) file_system_monitor.cc:111: /tmp/ray/session_2024-06-23_19-39-42_969375_64620 is over 95% full, available space: 2487721984; capacity: 51989970944. Object creation will fail if spilling is required.\n",
      "\u001b[33m(raylet)\u001b[0m [2024-06-23 19:40:36,558 E 72039 72072] (raylet) file_system_monitor.cc:111: /tmp/ray/session_2024-06-23_19-39-42_969375_64620 is over 95% full, available space: 2487721984; capacity: 51989970944. Object creation will fail if spilling is required.\n",
      "\u001b[33m(raylet)\u001b[0m [2024-06-23 19:40:46,559 E 72039 72072] (raylet) file_system_monitor.cc:111: /tmp/ray/session_2024-06-23_19-39-42_969375_64620 is over 95% full, available space: 2487705600; capacity: 51989970944. Object creation will fail if spilling is required.\n",
      "\u001b[33m(raylet)\u001b[0m [2024-06-23 19:40:56,659 E 72039 72072] (raylet) file_system_monitor.cc:111: /tmp/ray/session_2024-06-23_19-39-42_969375_64620 is over 95% full, available space: 2487660544; capacity: 51989970944. Object creation will fail if spilling is required.\n",
      "\u001b[33m(raylet)\u001b[0m [2024-06-23 19:41:06,758 E 72039 72072] (raylet) file_system_monitor.cc:111: /tmp/ray/session_2024-06-23_19-39-42_969375_64620 is over 95% full, available space: 2487660544; capacity: 51989970944. Object creation will fail if spilling is required.\n",
      "\u001b[33m(raylet)\u001b[0m [2024-06-23 19:41:16,869 E 72039 72072] (raylet) file_system_monitor.cc:111: /tmp/ray/session_2024-06-23_19-39-42_969375_64620 is over 95% full, available space: 2487656448; capacity: 51989970944. Object creation will fail if spilling is required.\n",
      "\u001b[33m(raylet)\u001b[0m [2024-06-23 19:41:26,957 E 72039 72072] (raylet) file_system_monitor.cc:111: /tmp/ray/session_2024-06-23_19-39-42_969375_64620 is over 95% full, available space: 2487644160; capacity: 51989970944. Object creation will fail if spilling is required.\n",
      "\u001b[33m(raylet)\u001b[0m [2024-06-23 19:41:37,056 E 72039 72072] (raylet) file_system_monitor.cc:111: /tmp/ray/session_2024-06-23_19-39-42_969375_64620 is over 95% full, available space: 2487640064; capacity: 51989970944. Object creation will fail if spilling is required.\n",
      "\u001b[33m(raylet)\u001b[0m [2024-06-23 19:41:47,080 E 72039 72072] (raylet) file_system_monitor.cc:111: /tmp/ray/session_2024-06-23_19-39-42_969375_64620 is over 95% full, available space: 2487607296; capacity: 51989970944. Object creation will fail if spilling is required.\n",
      "\u001b[33m(raylet)\u001b[0m [2024-06-23 19:41:57,356 E 72039 72072] (raylet) file_system_monitor.cc:111: /tmp/ray/session_2024-06-23_19-39-42_969375_64620 is over 95% full, available space: 2487570432; capacity: 51989970944. Object creation will fail if spilling is required.\n",
      "\u001b[33m(raylet)\u001b[0m [2024-06-23 19:42:07,357 E 72039 72072] (raylet) file_system_monitor.cc:111: /tmp/ray/session_2024-06-23_19-39-42_969375_64620 is over 95% full, available space: 2487570432; capacity: 51989970944. Object creation will fail if spilling is required.\n"
     ]
    },
    {
     "name": "stdout",
     "output_type": "stream",
     "text": [
      "\u001b[36m(DefaultActor pid=72868)\u001b[0m 441/441 - 123s - loss: 0.2873 - sparse_categorical_accuracy: 0.8678 - 123s/epoch - 280ms/step\n"
     ]
    },
    {
     "name": "stderr",
     "output_type": "stream",
     "text": [
      "\u001b[33m(raylet)\u001b[0m [2024-06-23 19:42:17,457 E 72039 72072] (raylet) file_system_monitor.cc:111: /tmp/ray/session_2024-06-23_19-39-42_969375_64620 is over 95% full, available space: 2487566336; capacity: 51989970944. Object creation will fail if spilling is required.\n",
      "DEBUG flwr 2024-06-23 19:42:20,792 | server.py:236 | fit_round 1 received 2 results and 0 failures\n",
      "\u001b[33m(raylet)\u001b[0m [2024-06-23 19:42:27,457 E 72039 72072] (raylet) file_system_monitor.cc:111: /tmp/ray/session_2024-06-23_19-39-42_969375_64620 is over 95% full, available space: 2487562240; capacity: 51989970944. Object creation will fail if spilling is required.\n"
     ]
    },
    {
     "name": "stdout",
     "output_type": "stream",
     "text": [
      "254/254 - 8s - loss: 0.4687 - sparse_categorical_accuracy: 0.7912 - 8s/epoch - 31ms/step\n"
     ]
    },
    {
     "name": "stderr",
     "output_type": "stream",
     "text": [
      "\u001b[33m(raylet)\u001b[0m [2024-06-23 19:42:37,557 E 72039 72072] (raylet) file_system_monitor.cc:111: /tmp/ray/session_2024-06-23_19-39-42_969375_64620 is over 95% full, available space: 2487558144; capacity: 51989970944. Object creation will fail if spilling is required.\n",
      "INFO flwr 2024-06-23 19:42:37,710 | server.py:125 | fit progress: (1, 0.4687023460865021, {'accuracy': 0.791208803653717, 'precision': 0.8548482829007428, 'recall': 0.7912087912087912, 'f1score': 0.7882356113276117}, 151.57796130100905)\n",
      "INFO flwr 2024-06-23 19:42:37,711 | server.py:171 | evaluate_round 1: no clients selected, cancel\n",
      "DEBUG flwr 2024-06-23 19:42:37,711 | server.py:222 | fit_round 2: strategy sampled 2 clients (out of 2)\n",
      "\u001b[33m(raylet)\u001b[0m [2024-06-23 19:42:47,560 E 72039 72072] (raylet) file_system_monitor.cc:111: /tmp/ray/session_2024-06-23_19-39-42_969375_64620 is over 95% full, available space: 2487517184; capacity: 51989970944. Object creation will fail if spilling is required.\n",
      "\u001b[33m(raylet)\u001b[0m [2024-06-23 19:42:57,955 E 72039 72072] (raylet) file_system_monitor.cc:111: /tmp/ray/session_2024-06-23_19-39-42_969375_64620 is over 95% full, available space: 2487488512; capacity: 51989970944. Object creation will fail if spilling is required.\n",
      "\u001b[33m(raylet)\u001b[0m [2024-06-23 19:43:08,159 E 72039 72072] (raylet) file_system_monitor.cc:111: /tmp/ray/session_2024-06-23_19-39-42_969375_64620 is over 95% full, available space: 2487488512; capacity: 51989970944. Object creation will fail if spilling is required.\n",
      "\u001b[33m(raylet)\u001b[0m [2024-06-23 19:43:18,356 E 72039 72072] (raylet) file_system_monitor.cc:111: /tmp/ray/session_2024-06-23_19-39-42_969375_64620 is over 95% full, available space: 2487484416; capacity: 51989970944. Object creation will fail if spilling is required.\n",
      "\u001b[33m(raylet)\u001b[0m [2024-06-23 19:43:28,356 E 72039 72072] (raylet) file_system_monitor.cc:111: /tmp/ray/session_2024-06-23_19-39-42_969375_64620 is over 95% full, available space: 2487480320; capacity: 51989970944. Object creation will fail if spilling is required.\n",
      "\u001b[33m(raylet)\u001b[0m [2024-06-23 19:43:38,356 E 72039 72072] (raylet) file_system_monitor.cc:111: /tmp/ray/session_2024-06-23_19-39-42_969375_64620 is over 95% full, available space: 2487472128; capacity: 51989970944. Object creation will fail if spilling is required.\n",
      "\u001b[33m(raylet)\u001b[0m [2024-06-23 19:43:48,357 E 72039 72072] (raylet) file_system_monitor.cc:111: /tmp/ray/session_2024-06-23_19-39-42_969375_64620 is over 95% full, available space: 2487427072; capacity: 51989970944. Object creation will fail if spilling is required.\n",
      "\u001b[33m(raylet)\u001b[0m [2024-06-23 19:43:58,455 E 72039 72072] (raylet) file_system_monitor.cc:111: /tmp/ray/session_2024-06-23_19-39-42_969375_64620 is over 95% full, available space: 2487402496; capacity: 51989970944. Object creation will fail if spilling is required.\n",
      "\u001b[33m(raylet)\u001b[0m [2024-06-23 19:44:08,483 E 72039 72072] (raylet) file_system_monitor.cc:111: /tmp/ray/session_2024-06-23_19-39-42_969375_64620 is over 95% full, available space: 2487398400; capacity: 51989970944. Object creation will fail if spilling is required.\n",
      "\u001b[33m(raylet)\u001b[0m [2024-06-23 19:44:18,556 E 72039 72072] (raylet) file_system_monitor.cc:111: /tmp/ray/session_2024-06-23_19-39-42_969375_64620 is over 95% full, available space: 2487398400; capacity: 51989970944. Object creation will fail if spilling is required.\n",
      "\u001b[33m(raylet)\u001b[0m [2024-06-23 19:44:28,556 E 72039 72072] (raylet) file_system_monitor.cc:111: /tmp/ray/session_2024-06-23_19-39-42_969375_64620 is over 95% full, available space: 2487394304; capacity: 51989970944. Object creation will fail if spilling is required.\n"
     ]
    },
    {
     "name": "stdout",
     "output_type": "stream",
     "text": [
      "\u001b[36m(DefaultActor pid=72869)\u001b[0m 441/441 - 116s - loss: 0.1351 - sparse_categorical_accuracy: 0.9444 - 116s/epoch - 263ms/step\u001b[32m [repeated 2x across cluster] (Ray deduplicates logs by default. Set RAY_DEDUP_LOGS=0 to disable log deduplication, or see https://docs.ray.io/en/master/ray-observability/ray-logging.html#log-deduplication for more options.)\u001b[0m\n"
     ]
    },
    {
     "name": "stderr",
     "output_type": "stream",
     "text": [
      "\u001b[33m(raylet)\u001b[0m [2024-06-23 19:44:38,556 E 72039 72072] (raylet) file_system_monitor.cc:111: /tmp/ray/session_2024-06-23_19-39-42_969375_64620 is over 95% full, available space: 2487386112; capacity: 51989970944. Object creation will fail if spilling is required.\n",
      "\u001b[33m(raylet)\u001b[0m [2024-06-23 19:44:48,560 E 72039 72072] (raylet) file_system_monitor.cc:111: /tmp/ray/session_2024-06-23_19-39-42_969375_64620 is over 95% full, available space: 2487332864; capacity: 51989970944. Object creation will fail if spilling is required.\n",
      "DEBUG flwr 2024-06-23 19:44:53,460 | server.py:236 | fit_round 2 received 2 results and 0 failures\n"
     ]
    },
    {
     "name": "stdout",
     "output_type": "stream",
     "text": [
      "\u001b[36m(DefaultActor pid=72868)\u001b[0m 540/540 - 130s - loss: 0.1411 - sparse_categorical_accuracy: 0.9519 - 130s/epoch - 241ms/step\n"
     ]
    },
    {
     "name": "stderr",
     "output_type": "stream",
     "text": [
      "\u001b[33m(raylet)\u001b[0m [2024-06-23 19:44:58,582 E 72039 72072] (raylet) file_system_monitor.cc:111: /tmp/ray/session_2024-06-23_19-39-42_969375_64620 is over 95% full, available space: 2487324672; capacity: 51989970944. Object creation will fail if spilling is required.\n"
     ]
    },
    {
     "name": "stdout",
     "output_type": "stream",
     "text": [
      "254/254 - 8s - loss: 0.3549 - sparse_categorical_accuracy: 0.8570 - 8s/epoch - 31ms/step\n"
     ]
    },
    {
     "name": "stderr",
     "output_type": "stream",
     "text": [
      "\u001b[33m(raylet)\u001b[0m [2024-06-23 19:45:08,819 E 72039 72072] (raylet) file_system_monitor.cc:111: /tmp/ray/session_2024-06-23_19-39-42_969375_64620 is over 95% full, available space: 2487320576; capacity: 51989970944. Object creation will fail if spilling is required.\n",
      "INFO flwr 2024-06-23 19:45:10,325 | server.py:125 | fit progress: (2, 0.354851633310318, {'accuracy': 0.8570193648338318, 'precision': 0.8874808047445896, 'recall': 0.8570193851092728, 'f1score': 0.8539244299159343}, 304.1934410140093)\n",
      "INFO flwr 2024-06-23 19:45:10,326 | server.py:171 | evaluate_round 2: no clients selected, cancel\n",
      "DEBUG flwr 2024-06-23 19:45:10,327 | server.py:222 | fit_round 3: strategy sampled 2 clients (out of 2)\n",
      "\u001b[33m(raylet)\u001b[0m [2024-06-23 19:45:18,839 E 72039 72072] (raylet) file_system_monitor.cc:111: /tmp/ray/session_2024-06-23_19-39-42_969375_64620 is over 95% full, available space: 2487316480; capacity: 51989970944. Object creation will fail if spilling is required.\n",
      "\u001b[33m(raylet)\u001b[0m [2024-06-23 19:45:28,841 E 72039 72072] (raylet) file_system_monitor.cc:111: /tmp/ray/session_2024-06-23_19-39-42_969375_64620 is over 95% full, available space: 2487304192; capacity: 51989970944. Object creation will fail if spilling is required.\n",
      "\u001b[33m(raylet)\u001b[0m [2024-06-23 19:45:38,857 E 72039 72072] (raylet) file_system_monitor.cc:111: /tmp/ray/session_2024-06-23_19-39-42_969375_64620 is over 95% full, available space: 2487304192; capacity: 51989970944. Object creation will fail if spilling is required.\n",
      "\u001b[33m(raylet)\u001b[0m [2024-06-23 19:45:48,946 E 72039 72072] (raylet) file_system_monitor.cc:111: /tmp/ray/session_2024-06-23_19-39-42_969375_64620 is over 95% full, available space: 2487250944; capacity: 51989970944. Object creation will fail if spilling is required.\n",
      "\u001b[33m(raylet)\u001b[0m [2024-06-23 19:45:58,949 E 72039 72072] (raylet) file_system_monitor.cc:111: /tmp/ray/session_2024-06-23_19-39-42_969375_64620 is over 95% full, available space: 2487238656; capacity: 51989970944. Object creation will fail if spilling is required.\n",
      "\u001b[33m(raylet)\u001b[0m [2024-06-23 19:46:08,953 E 72039 72072] (raylet) file_system_monitor.cc:111: /tmp/ray/session_2024-06-23_19-39-42_969375_64620 is over 95% full, available space: 2487238656; capacity: 51989970944. Object creation will fail if spilling is required.\n",
      "\u001b[33m(raylet)\u001b[0m [2024-06-23 19:46:19,058 E 72039 72072] (raylet) file_system_monitor.cc:111: /tmp/ray/session_2024-06-23_19-39-42_969375_64620 is over 95% full, available space: 2487238656; capacity: 51989970944. Object creation will fail if spilling is required.\n",
      "\u001b[33m(raylet)\u001b[0m [2024-06-23 19:46:29,256 E 72039 72072] (raylet) file_system_monitor.cc:111: /tmp/ray/session_2024-06-23_19-39-42_969375_64620 is over 95% full, available space: 2487234560; capacity: 51989970944. Object creation will fail if spilling is required.\n",
      "\u001b[33m(raylet)\u001b[0m [2024-06-23 19:46:39,350 E 72039 72072] (raylet) file_system_monitor.cc:111: /tmp/ray/session_2024-06-23_19-39-42_969375_64620 is over 95% full, available space: 2487230464; capacity: 51989970944. Object creation will fail if spilling is required.\n",
      "\u001b[33m(raylet)\u001b[0m [2024-06-23 19:46:49,353 E 72039 72072] (raylet) file_system_monitor.cc:111: /tmp/ray/session_2024-06-23_19-39-42_969375_64620 is over 95% full, available space: 2487169024; capacity: 51989970944. Object creation will fail if spilling is required.\n",
      "\u001b[33m(raylet)\u001b[0m [2024-06-23 19:46:59,449 E 72039 72072] (raylet) file_system_monitor.cc:111: /tmp/ray/session_2024-06-23_19-39-42_969375_64620 is over 95% full, available space: 2487169024; capacity: 51989970944. Object creation will fail if spilling is required.\n",
      "\u001b[33m(raylet)\u001b[0m [2024-06-23 19:47:09,546 E 72039 72072] (raylet) file_system_monitor.cc:111: /tmp/ray/session_2024-06-23_19-39-42_969375_64620 is over 95% full, available space: 2487169024; capacity: 51989970944. Object creation will fail if spilling is required.\n"
     ]
    },
    {
     "name": "stdout",
     "output_type": "stream",
     "text": [
      "\u001b[36m(DefaultActor pid=72869)\u001b[0m 441/441 - 116s - loss: 0.1033 - sparse_categorical_accuracy: 0.9606 - 116s/epoch - 263ms/step\n"
     ]
    },
    {
     "name": "stderr",
     "output_type": "stream",
     "text": [
      "\u001b[33m(raylet)\u001b[0m [2024-06-23 19:47:19,549 E 72039 72072] (raylet) file_system_monitor.cc:111: /tmp/ray/session_2024-06-23_19-39-42_969375_64620 is over 95% full, available space: 2487160832; capacity: 51989970944. Object creation will fail if spilling is required.\n",
      "DEBUG flwr 2024-06-23 19:47:21,214 | server.py:236 | fit_round 3 received 2 results and 0 failures\n"
     ]
    },
    {
     "name": "stdout",
     "output_type": "stream",
     "text": [
      "\u001b[36m(DefaultActor pid=72868)\u001b[0m 540/540 - 128s - loss: 0.1149 - sparse_categorical_accuracy: 0.9574 - 128s/epoch - 237ms/step\n",
      "254/254 - 7s - loss: 0.2408 - sparse_categorical_accuracy: 0.9368 - 7s/epoch - 29ms/step\n"
     ]
    },
    {
     "name": "stderr",
     "output_type": "stream",
     "text": [
      "\u001b[33m(raylet)\u001b[0m [2024-06-23 19:47:29,550 E 72039 72072] (raylet) file_system_monitor.cc:111: /tmp/ray/session_2024-06-23_19-39-42_969375_64620 is over 95% full, available space: 2487156736; capacity: 51989970944. Object creation will fail if spilling is required.\n",
      "INFO flwr 2024-06-23 19:47:37,754 | server.py:125 | fit progress: (3, 0.2408255785703659, {'accuracy': 0.9367823004722595, 'precision': 0.937136379913105, 'recall': 0.9367823188047907, 'f1score': 0.9362165531108407}, 451.62193653300346)\n",
      "INFO flwr 2024-06-23 19:47:37,755 | server.py:171 | evaluate_round 3: no clients selected, cancel\n",
      "DEBUG flwr 2024-06-23 19:47:37,755 | server.py:222 | fit_round 4: strategy sampled 2 clients (out of 2)\n",
      "\u001b[33m(raylet)\u001b[0m [2024-06-23 19:47:39,553 E 72039 72072] (raylet) file_system_monitor.cc:111: /tmp/ray/session_2024-06-23_19-39-42_969375_64620 is over 95% full, available space: 2487152640; capacity: 51989970944. Object creation will fail if spilling is required.\n",
      "\u001b[33m(raylet)\u001b[0m [2024-06-23 19:47:49,554 E 72039 72072] (raylet) file_system_monitor.cc:111: /tmp/ray/session_2024-06-23_19-39-42_969375_64620 is over 95% full, available space: 2487091200; capacity: 51989970944. Object creation will fail if spilling is required.\n",
      "\u001b[33m(raylet)\u001b[0m [2024-06-23 19:47:59,656 E 72039 72072] (raylet) file_system_monitor.cc:111: /tmp/ray/session_2024-06-23_19-39-42_969375_64620 is over 95% full, available space: 2487091200; capacity: 51989970944. Object creation will fail if spilling is required.\n",
      "\u001b[33m(raylet)\u001b[0m [2024-06-23 19:48:09,709 E 72039 72072] (raylet) file_system_monitor.cc:111: /tmp/ray/session_2024-06-23_19-39-42_969375_64620 is over 95% full, available space: 2487087104; capacity: 51989970944. Object creation will fail if spilling is required.\n",
      "\u001b[33m(raylet)\u001b[0m [2024-06-23 19:48:19,761 E 72039 72072] (raylet) file_system_monitor.cc:111: /tmp/ray/session_2024-06-23_19-39-42_969375_64620 is over 95% full, available space: 2487083008; capacity: 51989970944. Object creation will fail if spilling is required.\n",
      "\u001b[33m(raylet)\u001b[0m [2024-06-23 19:48:29,764 E 72039 72072] (raylet) file_system_monitor.cc:111: /tmp/ray/session_2024-06-23_19-39-42_969375_64620 is over 95% full, available space: 2487078912; capacity: 51989970944. Object creation will fail if spilling is required.\n",
      "\u001b[33m(raylet)\u001b[0m [2024-06-23 19:48:39,864 E 72039 72072] (raylet) file_system_monitor.cc:111: /tmp/ray/session_2024-06-23_19-39-42_969375_64620 is over 95% full, available space: 2487074816; capacity: 51989970944. Object creation will fail if spilling is required.\n",
      "\u001b[33m(raylet)\u001b[0m [2024-06-23 19:48:49,963 E 72039 72072] (raylet) file_system_monitor.cc:111: /tmp/ray/session_2024-06-23_19-39-42_969375_64620 is over 95% full, available space: 2487013376; capacity: 51989970944. Object creation will fail if spilling is required.\n",
      "\u001b[33m(raylet)\u001b[0m [2024-06-23 19:49:00,047 E 72039 72072] (raylet) file_system_monitor.cc:111: /tmp/ray/session_2024-06-23_19-39-42_969375_64620 is over 95% full, available space: 2487005184; capacity: 51989970944. Object creation will fail if spilling is required.\n",
      "\u001b[33m(raylet)\u001b[0m [2024-06-23 19:49:10,060 E 72039 72072] (raylet) file_system_monitor.cc:111: /tmp/ray/session_2024-06-23_19-39-42_969375_64620 is over 95% full, available space: 2487001088; capacity: 51989970944. Object creation will fail if spilling is required.\n",
      "\u001b[33m(raylet)\u001b[0m [2024-06-23 19:49:20,259 E 72039 72072] (raylet) file_system_monitor.cc:111: /tmp/ray/session_2024-06-23_19-39-42_969375_64620 is over 95% full, available space: 2487001088; capacity: 51989970944. Object creation will fail if spilling is required.\n",
      "\u001b[33m(raylet)\u001b[0m [2024-06-23 19:49:30,359 E 72039 72072] (raylet) file_system_monitor.cc:111: /tmp/ray/session_2024-06-23_19-39-42_969375_64620 is over 95% full, available space: 2487001088; capacity: 51989970944. Object creation will fail if spilling is required.\n",
      "\u001b[33m(raylet)\u001b[0m [2024-06-23 19:49:40,661 E 72039 72072] (raylet) file_system_monitor.cc:111: /tmp/ray/session_2024-06-23_19-39-42_969375_64620 is over 95% full, available space: 2486992896; capacity: 51989970944. Object creation will fail if spilling is required.\n"
     ]
    },
    {
     "name": "stdout",
     "output_type": "stream",
     "text": [
      "\u001b[36m(DefaultActor pid=72869)\u001b[0m 441/441 - 120s - loss: 0.0824 - sparse_categorical_accuracy: 0.9701 - 120s/epoch - 272ms/step\n"
     ]
    },
    {
     "name": "stderr",
     "output_type": "stream",
     "text": [
      "DEBUG flwr 2024-06-23 19:49:49,350 | server.py:236 | fit_round 4 received 2 results and 0 failures\n"
     ]
    },
    {
     "name": "stdout",
     "output_type": "stream",
     "text": [
      "\u001b[36m(DefaultActor pid=72868)\u001b[0m 540/540 - 129s - loss: 0.0946 - sparse_categorical_accuracy: 0.9657 - 129s/epoch - 238ms/step\n"
     ]
    },
    {
     "name": "stderr",
     "output_type": "stream",
     "text": [
      "\u001b[33m(raylet)\u001b[0m [2024-06-23 19:49:50,732 E 72039 72072] (raylet) file_system_monitor.cc:111: /tmp/ray/session_2024-06-23_19-39-42_969375_64620 is over 95% full, available space: 2486931456; capacity: 51989970944. Object creation will fail if spilling is required.\n"
     ]
    },
    {
     "name": "stdout",
     "output_type": "stream",
     "text": [
      "254/254 - 8s - loss: 0.2279 - sparse_categorical_accuracy: 0.9390 - 8s/epoch - 32ms/step\n"
     ]
    },
    {
     "name": "stderr",
     "output_type": "stream",
     "text": [
      "\u001b[33m(raylet)\u001b[0m [2024-06-23 19:50:00,763 E 72039 72072] (raylet) file_system_monitor.cc:111: /tmp/ray/session_2024-06-23_19-39-42_969375_64620 is over 95% full, available space: 2486927360; capacity: 51989970944. Object creation will fail if spilling is required.\n",
      "INFO flwr 2024-06-23 19:50:06,380 | server.py:125 | fit progress: (4, 0.22792181372642517, {'accuracy': 0.9390048384666443, 'precision': 0.9399297478484646, 'recall': 0.9390048154093098, 'f1score': 0.9383825454995445}, 600.2482554309972)\n",
      "INFO flwr 2024-06-23 19:50:06,381 | server.py:171 | evaluate_round 4: no clients selected, cancel\n",
      "DEBUG flwr 2024-06-23 19:50:06,382 | server.py:222 | fit_round 5: strategy sampled 2 clients (out of 2)\n",
      "\u001b[33m(raylet)\u001b[0m [2024-06-23 19:50:10,772 E 72039 72072] (raylet) file_system_monitor.cc:111: /tmp/ray/session_2024-06-23_19-39-42_969375_64620 is over 95% full, available space: 2486923264; capacity: 51989970944. Object creation will fail if spilling is required.\n",
      "\u001b[33m(raylet)\u001b[0m [2024-06-23 19:50:20,866 E 72039 72072] (raylet) file_system_monitor.cc:111: /tmp/ray/session_2024-06-23_19-39-42_969375_64620 is over 95% full, available space: 2486923264; capacity: 51989970944. Object creation will fail if spilling is required.\n",
      "\u001b[33m(raylet)\u001b[0m [2024-06-23 19:50:31,017 E 72039 72072] (raylet) file_system_monitor.cc:111: /tmp/ray/session_2024-06-23_19-39-42_969375_64620 is over 95% full, available space: 2486910976; capacity: 51989970944. Object creation will fail if spilling is required.\n",
      "\u001b[33m(raylet)\u001b[0m [2024-06-23 19:50:41,049 E 72039 72072] (raylet) file_system_monitor.cc:111: /tmp/ray/session_2024-06-23_19-39-42_969375_64620 is over 95% full, available space: 2486910976; capacity: 51989970944. Object creation will fail if spilling is required.\n",
      "\u001b[33m(raylet)\u001b[0m [2024-06-23 19:50:51,071 E 72039 72072] (raylet) file_system_monitor.cc:111: /tmp/ray/session_2024-06-23_19-39-42_969375_64620 is over 95% full, available space: 2486853632; capacity: 51989970944. Object creation will fail if spilling is required.\n",
      "\u001b[33m(raylet)\u001b[0m [2024-06-23 19:51:01,273 E 72039 72072] (raylet) file_system_monitor.cc:111: /tmp/ray/session_2024-06-23_19-39-42_969375_64620 is over 95% full, available space: 2486837248; capacity: 51989970944. Object creation will fail if spilling is required.\n",
      "\u001b[33m(raylet)\u001b[0m [2024-06-23 19:51:11,373 E 72039 72072] (raylet) file_system_monitor.cc:111: /tmp/ray/session_2024-06-23_19-39-42_969375_64620 is over 95% full, available space: 2486837248; capacity: 51989970944. Object creation will fail if spilling is required.\n",
      "\u001b[33m(raylet)\u001b[0m [2024-06-23 19:51:21,383 E 72039 72072] (raylet) file_system_monitor.cc:111: /tmp/ray/session_2024-06-23_19-39-42_969375_64620 is over 95% full, available space: 2486837248; capacity: 51989970944. Object creation will fail if spilling is required.\n",
      "\u001b[33m(raylet)\u001b[0m [2024-06-23 19:51:31,479 E 72039 72072] (raylet) file_system_monitor.cc:111: /tmp/ray/session_2024-06-23_19-39-42_969375_64620 is over 95% full, available space: 2486833152; capacity: 51989970944. Object creation will fail if spilling is required.\n",
      "\u001b[33m(raylet)\u001b[0m [2024-06-23 19:51:41,479 E 72039 72072] (raylet) file_system_monitor.cc:111: /tmp/ray/session_2024-06-23_19-39-42_969375_64620 is over 95% full, available space: 2486833152; capacity: 51989970944. Object creation will fail if spilling is required.\n",
      "\u001b[33m(raylet)\u001b[0m [2024-06-23 19:51:51,503 E 72039 72072] (raylet) file_system_monitor.cc:111: /tmp/ray/session_2024-06-23_19-39-42_969375_64620 is over 95% full, available space: 2486763520; capacity: 51989970944. Object creation will fail if spilling is required.\n",
      "\u001b[33m(raylet)\u001b[0m [2024-06-23 19:52:01,685 E 72039 72072] (raylet) file_system_monitor.cc:111: /tmp/ray/session_2024-06-23_19-39-42_969375_64620 is over 95% full, available space: 2486759424; capacity: 51989970944. Object creation will fail if spilling is required.\n"
     ]
    },
    {
     "name": "stdout",
     "output_type": "stream",
     "text": [
      "\u001b[36m(DefaultActor pid=72868)\u001b[0m 441/441 - 113s - loss: 0.0677 - sparse_categorical_accuracy: 0.9753 - 113s/epoch - 255ms/step\n"
     ]
    },
    {
     "name": "stderr",
     "output_type": "stream",
     "text": [
      "\u001b[33m(raylet)\u001b[0m [2024-06-23 19:52:11,688 E 72039 72072] (raylet) file_system_monitor.cc:111: /tmp/ray/session_2024-06-23_19-39-42_969375_64620 is over 95% full, available space: 2486759424; capacity: 51989970944. Object creation will fail if spilling is required.\n",
      "DEBUG flwr 2024-06-23 19:52:15,451 | server.py:236 | fit_round 5 received 2 results and 0 failures\n"
     ]
    },
    {
     "name": "stdout",
     "output_type": "stream",
     "text": [
      "\u001b[36m(DefaultActor pid=72869)\u001b[0m 540/540 - 124s - loss: 0.0837 - sparse_categorical_accuracy: 0.9708 - 124s/epoch - 230ms/step\n"
     ]
    },
    {
     "name": "stderr",
     "output_type": "stream",
     "text": [
      "\u001b[33m(raylet)\u001b[0m [2024-06-23 19:52:21,890 E 72039 72072] (raylet) file_system_monitor.cc:111: /tmp/ray/session_2024-06-23_19-39-42_969375_64620 is over 95% full, available space: 2486755328; capacity: 51989970944. Object creation will fail if spilling is required.\n"
     ]
    },
    {
     "name": "stdout",
     "output_type": "stream",
     "text": [
      "254/254 - 8s - loss: 0.2293 - sparse_categorical_accuracy: 0.9252 - 8s/epoch - 31ms/step\n"
     ]
    },
    {
     "name": "stderr",
     "output_type": "stream",
     "text": [
      "\u001b[33m(raylet)\u001b[0m [2024-06-23 19:52:31,892 E 72039 72072] (raylet) file_system_monitor.cc:111: /tmp/ray/session_2024-06-23_19-39-42_969375_64620 is over 95% full, available space: 2486751232; capacity: 51989970944. Object creation will fail if spilling is required.\n",
      "INFO flwr 2024-06-23 19:52:32,141 | server.py:125 | fit progress: (5, 0.22933730483055115, {'accuracy': 0.9251759648323059, 'precision': 0.9288995965735258, 'recall': 0.9251759476478577, 'f1score': 0.9240546041596305}, 746.0087635610107)\n",
      "INFO flwr 2024-06-23 19:52:32,142 | server.py:171 | evaluate_round 5: no clients selected, cancel\n",
      "DEBUG flwr 2024-06-23 19:52:32,142 | server.py:222 | fit_round 6: strategy sampled 2 clients (out of 2)\n",
      "\u001b[33m(raylet)\u001b[0m [2024-06-23 19:52:41,894 E 72039 72072] (raylet) file_system_monitor.cc:111: /tmp/ray/session_2024-06-23_19-39-42_969375_64620 is over 95% full, available space: 2486751232; capacity: 51989970944. Object creation will fail if spilling is required.\n",
      "\u001b[33m(raylet)\u001b[0m [2024-06-23 19:52:51,895 E 72039 72072] (raylet) file_system_monitor.cc:111: /tmp/ray/session_2024-06-23_19-39-42_969375_64620 is over 95% full, available space: 2486685696; capacity: 51989970944. Object creation will fail if spilling is required.\n",
      "\u001b[33m(raylet)\u001b[0m [2024-06-23 19:53:02,089 E 72039 72072] (raylet) file_system_monitor.cc:111: /tmp/ray/session_2024-06-23_19-39-42_969375_64620 is over 95% full, available space: 2486685696; capacity: 51989970944. Object creation will fail if spilling is required.\n",
      "\u001b[33m(raylet)\u001b[0m [2024-06-23 19:53:12,184 E 72039 72072] (raylet) file_system_monitor.cc:111: /tmp/ray/session_2024-06-23_19-39-42_969375_64620 is over 95% full, available space: 2486681600; capacity: 51989970944. Object creation will fail if spilling is required.\n",
      "\u001b[33m(raylet)\u001b[0m [2024-06-23 19:53:22,280 E 72039 72072] (raylet) file_system_monitor.cc:111: /tmp/ray/session_2024-06-23_19-39-42_969375_64620 is over 95% full, available space: 2486681600; capacity: 51989970944. Object creation will fail if spilling is required.\n",
      "\u001b[33m(raylet)\u001b[0m [2024-06-23 19:53:32,475 E 72039 72072] (raylet) file_system_monitor.cc:111: /tmp/ray/session_2024-06-23_19-39-42_969375_64620 is over 95% full, available space: 2486677504; capacity: 51989970944. Object creation will fail if spilling is required.\n",
      "\u001b[33m(raylet)\u001b[0m [2024-06-23 19:53:42,573 E 72039 72072] (raylet) file_system_monitor.cc:111: /tmp/ray/session_2024-06-23_19-39-42_969375_64620 is over 95% full, available space: 2486669312; capacity: 51989970944. Object creation will fail if spilling is required.\n",
      "\u001b[33m(raylet)\u001b[0m [2024-06-23 19:53:52,673 E 72039 72072] (raylet) file_system_monitor.cc:111: /tmp/ray/session_2024-06-23_19-39-42_969375_64620 is over 95% full, available space: 2486603776; capacity: 51989970944. Object creation will fail if spilling is required.\n",
      "\u001b[33m(raylet)\u001b[0m [2024-06-23 19:54:02,869 E 72039 72072] (raylet) file_system_monitor.cc:111: /tmp/ray/session_2024-06-23_19-39-42_969375_64620 is over 95% full, available space: 2486603776; capacity: 51989970944. Object creation will fail if spilling is required.\n",
      "\u001b[33m(raylet)\u001b[0m [2024-06-23 19:54:12,968 E 72039 72072] (raylet) file_system_monitor.cc:111: /tmp/ray/session_2024-06-23_19-39-42_969375_64620 is over 95% full, available space: 2486599680; capacity: 51989970944. Object creation will fail if spilling is required.\n",
      "\u001b[33m(raylet)\u001b[0m [2024-06-23 19:54:23,067 E 72039 72072] (raylet) file_system_monitor.cc:111: /tmp/ray/session_2024-06-23_19-39-42_969375_64620 is over 95% full, available space: 2486599680; capacity: 51989970944. Object creation will fail if spilling is required.\n",
      "\u001b[33m(raylet)\u001b[0m [2024-06-23 19:54:33,166 E 72039 72072] (raylet) file_system_monitor.cc:111: /tmp/ray/session_2024-06-23_19-39-42_969375_64620 is over 95% full, available space: 2486595584; capacity: 51989970944. Object creation will fail if spilling is required.\n"
     ]
    },
    {
     "name": "stdout",
     "output_type": "stream",
     "text": [
      "\u001b[36m(DefaultActor pid=72868)\u001b[0m 441/441 - 117s - loss: 0.0560 - sparse_categorical_accuracy: 0.9790 - 117s/epoch - 264ms/step\n"
     ]
    },
    {
     "name": "stderr",
     "output_type": "stream",
     "text": [
      "DEBUG flwr 2024-06-23 19:54:42,098 | server.py:236 | fit_round 6 received 2 results and 0 failures\n"
     ]
    },
    {
     "name": "stdout",
     "output_type": "stream",
     "text": [
      "\u001b[36m(DefaultActor pid=72869)\u001b[0m 540/540 - 127s - loss: 0.0792 - sparse_categorical_accuracy: 0.9704 - 127s/epoch - 236ms/step\n"
     ]
    },
    {
     "name": "stderr",
     "output_type": "stream",
     "text": [
      "\u001b[33m(raylet)\u001b[0m [2024-06-23 19:54:43,247 E 72039 72072] (raylet) file_system_monitor.cc:111: /tmp/ray/session_2024-06-23_19-39-42_969375_64620 is over 95% full, available space: 2486591488; capacity: 51989970944. Object creation will fail if spilling is required.\n"
     ]
    },
    {
     "name": "stdout",
     "output_type": "stream",
     "text": [
      "254/254 - 8s - loss: 0.1502 - sparse_categorical_accuracy: 0.9502 - 8s/epoch - 31ms/step\n"
     ]
    },
    {
     "name": "stderr",
     "output_type": "stream",
     "text": [
      "\u001b[33m(raylet)\u001b[0m [2024-06-23 19:54:53,264 E 72039 72072] (raylet) file_system_monitor.cc:111: /tmp/ray/session_2024-06-23_19-39-42_969375_64620 is over 95% full, available space: 2486534144; capacity: 51989970944. Object creation will fail if spilling is required.\n",
      "INFO flwr 2024-06-23 19:54:58,749 | server.py:125 | fit progress: (6, 0.15017542243003845, {'accuracy': 0.9502407908439636, 'precision': 0.9500655352161599, 'recall': 0.9502407704654896, 'f1score': 0.9501028354494315}, 892.6169826780097)\n",
      "INFO flwr 2024-06-23 19:54:58,750 | server.py:171 | evaluate_round 6: no clients selected, cancel\n",
      "DEBUG flwr 2024-06-23 19:54:58,750 | server.py:222 | fit_round 7: strategy sampled 2 clients (out of 2)\n",
      "\u001b[33m(raylet)\u001b[0m [2024-06-23 19:55:03,269 E 72039 72072] (raylet) file_system_monitor.cc:111: /tmp/ray/session_2024-06-23_19-39-42_969375_64620 is over 95% full, available space: 2486530048; capacity: 51989970944. Object creation will fail if spilling is required.\n",
      "\u001b[33m(raylet)\u001b[0m [2024-06-23 19:55:13,467 E 72039 72072] (raylet) file_system_monitor.cc:111: /tmp/ray/session_2024-06-23_19-39-42_969375_64620 is over 95% full, available space: 2486525952; capacity: 51989970944. Object creation will fail if spilling is required.\n",
      "\u001b[33m(raylet)\u001b[0m [2024-06-23 19:55:23,668 E 72039 72072] (raylet) file_system_monitor.cc:111: /tmp/ray/session_2024-06-23_19-39-42_969375_64620 is over 95% full, available space: 2486525952; capacity: 51989970944. Object creation will fail if spilling is required.\n",
      "\u001b[33m(raylet)\u001b[0m [2024-06-23 19:55:33,867 E 72039 72072] (raylet) file_system_monitor.cc:111: /tmp/ray/session_2024-06-23_19-39-42_969375_64620 is over 95% full, available space: 2486521856; capacity: 51989970944. Object creation will fail if spilling is required.\n",
      "\u001b[33m(raylet)\u001b[0m [2024-06-23 19:55:44,069 E 72039 72072] (raylet) file_system_monitor.cc:111: /tmp/ray/session_2024-06-23_19-39-42_969375_64620 is over 95% full, available space: 2486521856; capacity: 51989970944. Object creation will fail if spilling is required.\n",
      "\u001b[33m(raylet)\u001b[0m [2024-06-23 19:55:54,268 E 72039 72072] (raylet) file_system_monitor.cc:111: /tmp/ray/session_2024-06-23_19-39-42_969375_64620 is over 95% full, available space: 2486452224; capacity: 51989970944. Object creation will fail if spilling is required.\n",
      "\u001b[33m(raylet)\u001b[0m [2024-06-23 19:56:04,272 E 72039 72072] (raylet) file_system_monitor.cc:111: /tmp/ray/session_2024-06-23_19-39-42_969375_64620 is over 95% full, available space: 2486444032; capacity: 51989970944. Object creation will fail if spilling is required.\n",
      "\u001b[33m(raylet)\u001b[0m [2024-06-23 19:56:14,334 E 72039 72072] (raylet) file_system_monitor.cc:111: /tmp/ray/session_2024-06-23_19-39-42_969375_64620 is over 95% full, available space: 2486444032; capacity: 51989970944. Object creation will fail if spilling is required.\n",
      "\u001b[33m(raylet)\u001b[0m [2024-06-23 19:56:24,672 E 72039 72072] (raylet) file_system_monitor.cc:111: /tmp/ray/session_2024-06-23_19-39-42_969375_64620 is over 95% full, available space: 2486444032; capacity: 51989970944. Object creation will fail if spilling is required.\n",
      "\u001b[33m(raylet)\u001b[0m [2024-06-23 19:56:34,873 E 72039 72072] (raylet) file_system_monitor.cc:111: /tmp/ray/session_2024-06-23_19-39-42_969375_64620 is over 95% full, available space: 2486431744; capacity: 51989970944. Object creation will fail if spilling is required.\n",
      "\u001b[33m(raylet)\u001b[0m [2024-06-23 19:56:44,876 E 72039 72072] (raylet) file_system_monitor.cc:111: /tmp/ray/session_2024-06-23_19-39-42_969375_64620 is over 95% full, available space: 2486415360; capacity: 51989970944. Object creation will fail if spilling is required.\n",
      "\u001b[33m(raylet)\u001b[0m [2024-06-23 19:56:54,976 E 72039 72072] (raylet) file_system_monitor.cc:111: /tmp/ray/session_2024-06-23_19-39-42_969375_64620 is over 95% full, available space: 2486366208; capacity: 51989970944. Object creation will fail if spilling is required.\n"
     ]
    },
    {
     "name": "stdout",
     "output_type": "stream",
     "text": [
      "\u001b[36m(DefaultActor pid=72868)\u001b[0m 441/441 - 117s - loss: 0.0478 - sparse_categorical_accuracy: 0.9837 - 117s/epoch - 264ms/step\n"
     ]
    },
    {
     "name": "stderr",
     "output_type": "stream",
     "text": [
      "\u001b[33m(raylet)\u001b[0m [2024-06-23 19:57:05,076 E 72039 72072] (raylet) file_system_monitor.cc:111: /tmp/ray/session_2024-06-23_19-39-42_969375_64620 is over 95% full, available space: 2486362112; capacity: 51989970944. Object creation will fail if spilling is required.\n",
      "DEBUG flwr 2024-06-23 19:57:08,834 | server.py:236 | fit_round 7 received 2 results and 0 failures\n"
     ]
    },
    {
     "name": "stdout",
     "output_type": "stream",
     "text": [
      "\u001b[36m(DefaultActor pid=72869)\u001b[0m 540/540 - 127s - loss: 0.0702 - sparse_categorical_accuracy: 0.9736 - 127s/epoch - 236ms/step\n"
     ]
    },
    {
     "name": "stderr",
     "output_type": "stream",
     "text": [
      "\u001b[33m(raylet)\u001b[0m [2024-06-23 19:57:15,078 E 72039 72072] (raylet) file_system_monitor.cc:111: /tmp/ray/session_2024-06-23_19-39-42_969375_64620 is over 95% full, available space: 2486362112; capacity: 51989970944. Object creation will fail if spilling is required.\n"
     ]
    },
    {
     "name": "stdout",
     "output_type": "stream",
     "text": [
      "254/254 - 8s - loss: 0.1353 - sparse_categorical_accuracy: 0.9578 - 8s/epoch - 30ms/step\n"
     ]
    },
    {
     "name": "stderr",
     "output_type": "stream",
     "text": [
      "\u001b[33m(raylet)\u001b[0m [2024-06-23 19:57:25,279 E 72039 72072] (raylet) file_system_monitor.cc:111: /tmp/ray/session_2024-06-23_19-39-42_969375_64620 is over 95% full, available space: 2486358016; capacity: 51989970944. Object creation will fail if spilling is required.\n",
      "INFO flwr 2024-06-23 19:57:25,371 | server.py:125 | fit progress: (7, 0.13529004156589508, {'accuracy': 0.9577725529670715, 'precision': 0.9577021715881961, 'recall': 0.9577725645141375, 'f1score': 0.9577346179334542}, 1039.2388333710114)\n",
      "INFO flwr 2024-06-23 19:57:25,372 | server.py:171 | evaluate_round 7: no clients selected, cancel\n",
      "DEBUG flwr 2024-06-23 19:57:25,372 | server.py:222 | fit_round 8: strategy sampled 2 clients (out of 2)\n",
      "\u001b[33m(raylet)\u001b[0m [2024-06-23 19:57:35,359 E 72039 72072] (raylet) file_system_monitor.cc:111: /tmp/ray/session_2024-06-23_19-39-42_969375_64620 is over 95% full, available space: 2486353920; capacity: 51989970944. Object creation will fail if spilling is required.\n",
      "\u001b[33m(raylet)\u001b[0m [2024-06-23 19:57:45,384 E 72039 72072] (raylet) file_system_monitor.cc:111: /tmp/ray/session_2024-06-23_19-39-42_969375_64620 is over 95% full, available space: 2486341632; capacity: 51989970944. Object creation will fail if spilling is required.\n",
      "\u001b[33m(raylet)\u001b[0m [2024-06-23 19:57:55,391 E 72039 72072] (raylet) file_system_monitor.cc:111: /tmp/ray/session_2024-06-23_19-39-42_969375_64620 is over 95% full, available space: 2486292480; capacity: 51989970944. Object creation will fail if spilling is required.\n",
      "\u001b[33m(raylet)\u001b[0m [2024-06-23 19:58:05,488 E 72039 72072] (raylet) file_system_monitor.cc:111: /tmp/ray/session_2024-06-23_19-39-42_969375_64620 is over 95% full, available space: 2486288384; capacity: 51989970944. Object creation will fail if spilling is required.\n",
      "\u001b[33m(raylet)\u001b[0m [2024-06-23 19:58:15,492 E 72039 72072] (raylet) file_system_monitor.cc:111: /tmp/ray/session_2024-06-23_19-39-42_969375_64620 is over 95% full, available space: 2486288384; capacity: 51989970944. Object creation will fail if spilling is required.\n",
      "\u001b[33m(raylet)\u001b[0m [2024-06-23 19:58:25,693 E 72039 72072] (raylet) file_system_monitor.cc:111: /tmp/ray/session_2024-06-23_19-39-42_969375_64620 is over 95% full, available space: 2486284288; capacity: 51989970944. Object creation will fail if spilling is required.\n",
      "\u001b[33m(raylet)\u001b[0m [2024-06-23 19:58:35,716 E 72039 72072] (raylet) file_system_monitor.cc:111: /tmp/ray/session_2024-06-23_19-39-42_969375_64620 is over 95% full, available space: 2486284288; capacity: 51989970944. Object creation will fail if spilling is required.\n",
      "\u001b[33m(raylet)\u001b[0m [2024-06-23 19:58:45,896 E 72039 72072] (raylet) file_system_monitor.cc:111: /tmp/ray/session_2024-06-23_19-39-42_969375_64620 is over 95% full, available space: 2486263808; capacity: 51989970944. Object creation will fail if spilling is required.\n",
      "\u001b[33m(raylet)\u001b[0m [2024-06-23 19:58:55,900 E 72039 72072] (raylet) file_system_monitor.cc:111: /tmp/ray/session_2024-06-23_19-39-42_969375_64620 is over 95% full, available space: 2486214656; capacity: 51989970944. Object creation will fail if spilling is required.\n",
      "\u001b[33m(raylet)\u001b[0m [2024-06-23 19:59:05,901 E 72039 72072] (raylet) file_system_monitor.cc:111: /tmp/ray/session_2024-06-23_19-39-42_969375_64620 is over 95% full, available space: 2486214656; capacity: 51989970944. Object creation will fail if spilling is required.\n",
      "\u001b[33m(raylet)\u001b[0m [2024-06-23 19:59:15,902 E 72039 72072] (raylet) file_system_monitor.cc:111: /tmp/ray/session_2024-06-23_19-39-42_969375_64620 is over 95% full, available space: 2486206464; capacity: 51989970944. Object creation will fail if spilling is required.\n"
     ]
    },
    {
     "name": "stdout",
     "output_type": "stream",
     "text": [
      "\u001b[36m(DefaultActor pid=72868)\u001b[0m 441/441 - 114s - loss: 0.0461 - sparse_categorical_accuracy: 0.9852 - 114s/epoch - 258ms/step\n"
     ]
    },
    {
     "name": "stderr",
     "output_type": "stream",
     "text": [
      "\u001b[33m(raylet)\u001b[0m [2024-06-23 19:59:25,903 E 72039 72072] (raylet) file_system_monitor.cc:111: /tmp/ray/session_2024-06-23_19-39-42_969375_64620 is over 95% full, available space: 2486206464; capacity: 51989970944. Object creation will fail if spilling is required.\n",
      "DEBUG flwr 2024-06-23 19:59:35,110 | server.py:236 | fit_round 8 received 2 results and 0 failures\n"
     ]
    },
    {
     "name": "stdout",
     "output_type": "stream",
     "text": [
      "\u001b[36m(DefaultActor pid=72869)\u001b[0m 540/540 - 127s - loss: 0.0666 - sparse_categorical_accuracy: 0.9755 - 127s/epoch - 235ms/step\n"
     ]
    },
    {
     "name": "stderr",
     "output_type": "stream",
     "text": [
      "\u001b[33m(raylet)\u001b[0m [2024-06-23 19:59:35,907 E 72039 72072] (raylet) file_system_monitor.cc:111: /tmp/ray/session_2024-06-23_19-39-42_969375_64620 is over 95% full, available space: 2486198272; capacity: 51989970944. Object creation will fail if spilling is required.\n"
     ]
    },
    {
     "name": "stdout",
     "output_type": "stream",
     "text": [
      "254/254 - 8s - loss: 0.1288 - sparse_categorical_accuracy: 0.9606 - 8s/epoch - 30ms/step\n"
     ]
    },
    {
     "name": "stderr",
     "output_type": "stream",
     "text": [
      "\u001b[33m(raylet)\u001b[0m [2024-06-23 19:59:46,007 E 72039 72072] (raylet) file_system_monitor.cc:111: /tmp/ray/session_2024-06-23_19-39-42_969375_64620 is over 95% full, available space: 2486177792; capacity: 51989970944. Object creation will fail if spilling is required.\n",
      "INFO flwr 2024-06-23 19:59:52,076 | server.py:125 | fit progress: (8, 0.12883754074573517, {'accuracy': 0.960612416267395, 'precision': 0.9605100658699092, 'recall': 0.9606124212865786, 'f1score': 0.9605501665360718}, 1185.9446137920022)\n",
      "INFO flwr 2024-06-23 19:59:52,078 | server.py:171 | evaluate_round 8: no clients selected, cancel\n",
      "DEBUG flwr 2024-06-23 19:59:52,079 | server.py:222 | fit_round 9: strategy sampled 2 clients (out of 2)\n",
      "\u001b[33m(raylet)\u001b[0m [2024-06-23 19:59:56,011 E 72039 72072] (raylet) file_system_monitor.cc:111: /tmp/ray/session_2024-06-23_19-39-42_969375_64620 is over 95% full, available space: 2486132736; capacity: 51989970944. Object creation will fail if spilling is required.\n",
      "\u001b[33m(raylet)\u001b[0m [2024-06-23 20:00:06,176 E 72039 72072] (raylet) file_system_monitor.cc:111: /tmp/ray/session_2024-06-23_19-39-42_969375_64620 is over 95% full, available space: 2486128640; capacity: 51989970944. Object creation will fail if spilling is required.\n",
      "\u001b[33m(raylet)\u001b[0m [2024-06-23 20:00:16,233 E 72039 72072] (raylet) file_system_monitor.cc:111: /tmp/ray/session_2024-06-23_19-39-42_969375_64620 is over 95% full, available space: 2486124544; capacity: 51989970944. Object creation will fail if spilling is required.\n",
      "\u001b[33m(raylet)\u001b[0m [2024-06-23 20:00:26,312 E 72039 72072] (raylet) file_system_monitor.cc:111: /tmp/ray/session_2024-06-23_19-39-42_969375_64620 is over 95% full, available space: 2486124544; capacity: 51989970944. Object creation will fail if spilling is required.\n",
      "\u001b[33m(raylet)\u001b[0m [2024-06-23 20:00:36,316 E 72039 72072] (raylet) file_system_monitor.cc:111: /tmp/ray/session_2024-06-23_19-39-42_969375_64620 is over 95% full, available space: 2486120448; capacity: 51989970944. Object creation will fail if spilling is required.\n",
      "\u001b[33m(raylet)\u001b[0m [2024-06-23 20:00:46,318 E 72039 72072] (raylet) file_system_monitor.cc:111: /tmp/ray/session_2024-06-23_19-39-42_969375_64620 is over 95% full, available space: 2486104064; capacity: 51989970944. Object creation will fail if spilling is required.\n",
      "\u001b[33m(raylet)\u001b[0m [2024-06-23 20:00:56,319 E 72039 72072] (raylet) file_system_monitor.cc:111: /tmp/ray/session_2024-06-23_19-39-42_969375_64620 is over 95% full, available space: 2486050816; capacity: 51989970944. Object creation will fail if spilling is required.\n",
      "\u001b[33m(raylet)\u001b[0m [2024-06-23 20:01:06,418 E 72039 72072] (raylet) file_system_monitor.cc:111: /tmp/ray/session_2024-06-23_19-39-42_969375_64620 is over 95% full, available space: 2486042624; capacity: 51989970944. Object creation will fail if spilling is required.\n",
      "\u001b[33m(raylet)\u001b[0m [2024-06-23 20:01:16,424 E 72039 72072] (raylet) file_system_monitor.cc:111: /tmp/ray/session_2024-06-23_19-39-42_969375_64620 is over 95% full, available space: 2486042624; capacity: 51989970944. Object creation will fail if spilling is required.\n",
      "\u001b[33m(raylet)\u001b[0m [2024-06-23 20:01:26,595 E 72039 72072] (raylet) file_system_monitor.cc:111: /tmp/ray/session_2024-06-23_19-39-42_969375_64620 is over 95% full, available space: 2486038528; capacity: 51989970944. Object creation will fail if spilling is required.\n",
      "\u001b[33m(raylet)\u001b[0m [2024-06-23 20:01:36,724 E 72039 72072] (raylet) file_system_monitor.cc:111: /tmp/ray/session_2024-06-23_19-39-42_969375_64620 is over 95% full, available space: 2486034432; capacity: 51989970944. Object creation will fail if spilling is required.\n",
      "\u001b[33m(raylet)\u001b[0m [2024-06-23 20:01:46,927 E 72039 72072] (raylet) file_system_monitor.cc:111: /tmp/ray/session_2024-06-23_19-39-42_969375_64620 is over 95% full, available space: 2486030336; capacity: 51989970944. Object creation will fail if spilling is required.\n"
     ]
    },
    {
     "name": "stdout",
     "output_type": "stream",
     "text": [
      "\u001b[36m(DefaultActor pid=72869)\u001b[0m 441/441 - 115s - loss: 0.0405 - sparse_categorical_accuracy: 0.9860 - 115s/epoch - 262ms/step\n"
     ]
    },
    {
     "name": "stderr",
     "output_type": "stream",
     "text": [
      "\u001b[33m(raylet)\u001b[0m [2024-06-23 20:01:56,927 E 72039 72072] (raylet) file_system_monitor.cc:111: /tmp/ray/session_2024-06-23_19-39-42_969375_64620 is over 95% full, available space: 2485968896; capacity: 51989970944. Object creation will fail if spilling is required.\n",
      "DEBUG flwr 2024-06-23 20:02:00,687 | server.py:236 | fit_round 9 received 2 results and 0 failures\n"
     ]
    },
    {
     "name": "stdout",
     "output_type": "stream",
     "text": [
      "\u001b[36m(DefaultActor pid=72868)\u001b[0m 540/540 - 124s - loss: 0.0604 - sparse_categorical_accuracy: 0.9772 - 124s/epoch - 230ms/step\n"
     ]
    },
    {
     "name": "stderr",
     "output_type": "stream",
     "text": [
      "\u001b[33m(raylet)\u001b[0m [2024-06-23 20:02:07,129 E 72039 72072] (raylet) file_system_monitor.cc:111: /tmp/ray/session_2024-06-23_19-39-42_969375_64620 is over 95% full, available space: 2485964800; capacity: 51989970944. Object creation will fail if spilling is required.\n"
     ]
    },
    {
     "name": "stdout",
     "output_type": "stream",
     "text": [
      "254/254 - 8s - loss: 0.1397 - sparse_categorical_accuracy: 0.9600 - 8s/epoch - 30ms/step\n"
     ]
    },
    {
     "name": "stderr",
     "output_type": "stream",
     "text": [
      "\u001b[33m(raylet)\u001b[0m [2024-06-23 20:02:17,329 E 72039 72072] (raylet) file_system_monitor.cc:111: /tmp/ray/session_2024-06-23_19-39-42_969375_64620 is over 95% full, available space: 2485977088; capacity: 51989970944. Object creation will fail if spilling is required.\n",
      "INFO flwr 2024-06-23 20:02:17,477 | server.py:125 | fit progress: (9, 0.13972382247447968, {'accuracy': 0.9599950313568115, 'precision': 0.9602123395547824, 'recall': 0.9599950611186566, 'f1score': 0.9597440057883133}, 1331.345267746001)\n",
      "INFO flwr 2024-06-23 20:02:17,478 | server.py:171 | evaluate_round 9: no clients selected, cancel\n",
      "DEBUG flwr 2024-06-23 20:02:17,479 | server.py:222 | fit_round 10: strategy sampled 2 clients (out of 2)\n",
      "\u001b[33m(raylet)\u001b[0m [2024-06-23 20:02:27,332 E 72039 72072] (raylet) file_system_monitor.cc:111: /tmp/ray/session_2024-06-23_19-39-42_969375_64620 is over 95% full, available space: 2485960704; capacity: 51989970944. Object creation will fail if spilling is required.\n",
      "\u001b[33m(raylet)\u001b[0m [2024-06-23 20:02:37,535 E 72039 72072] (raylet) file_system_monitor.cc:111: /tmp/ray/session_2024-06-23_19-39-42_969375_64620 is over 95% full, available space: 2485956608; capacity: 51989970944. Object creation will fail if spilling is required.\n",
      "\u001b[33m(raylet)\u001b[0m [2024-06-23 20:02:47,736 E 72039 72072] (raylet) file_system_monitor.cc:111: /tmp/ray/session_2024-06-23_19-39-42_969375_64620 is over 95% full, available space: 2485932032; capacity: 51989970944. Object creation will fail if spilling is required.\n",
      "\u001b[33m(raylet)\u001b[0m [2024-06-23 20:02:57,739 E 72039 72072] (raylet) file_system_monitor.cc:111: /tmp/ray/session_2024-06-23_19-39-42_969375_64620 is over 95% full, available space: 2485886976; capacity: 51989970944. Object creation will fail if spilling is required.\n",
      "\u001b[33m(raylet)\u001b[0m [2024-06-23 20:03:08,138 E 72039 72072] (raylet) file_system_monitor.cc:111: /tmp/ray/session_2024-06-23_19-39-42_969375_64620 is over 95% full, available space: 2485886976; capacity: 51989970944. Object creation will fail if spilling is required.\n",
      "\u001b[33m(raylet)\u001b[0m [2024-06-23 20:03:18,338 E 72039 72072] (raylet) file_system_monitor.cc:111: /tmp/ray/session_2024-06-23_19-39-42_969375_64620 is over 95% full, available space: 2485886976; capacity: 51989970944. Object creation will fail if spilling is required.\n",
      "\u001b[33m(raylet)\u001b[0m [2024-06-23 20:03:28,342 E 72039 72072] (raylet) file_system_monitor.cc:111: /tmp/ray/session_2024-06-23_19-39-42_969375_64620 is over 95% full, available space: 2485895168; capacity: 51989970944. Object creation will fail if spilling is required.\n",
      "\u001b[33m(raylet)\u001b[0m [2024-06-23 20:03:38,463 E 72039 72072] (raylet) file_system_monitor.cc:111: /tmp/ray/session_2024-06-23_19-39-42_969375_64620 is over 95% full, available space: 2485882880; capacity: 51989970944. Object creation will fail if spilling is required.\n",
      "\u001b[33m(raylet)\u001b[0m [2024-06-23 20:03:48,544 E 72039 72072] (raylet) file_system_monitor.cc:111: /tmp/ray/session_2024-06-23_19-39-42_969375_64620 is over 95% full, available space: 2485829632; capacity: 51989970944. Object creation will fail if spilling is required.\n",
      "\u001b[33m(raylet)\u001b[0m [2024-06-23 20:03:58,608 E 72039 72072] (raylet) file_system_monitor.cc:111: /tmp/ray/session_2024-06-23_19-39-42_969375_64620 is over 95% full, available space: 2485813248; capacity: 51989970944. Object creation will fail if spilling is required.\n",
      "\u001b[33m(raylet)\u001b[0m [2024-06-23 20:04:08,685 E 72039 72072] (raylet) file_system_monitor.cc:111: /tmp/ray/session_2024-06-23_19-39-42_969375_64620 is over 95% full, available space: 2485809152; capacity: 51989970944. Object creation will fail if spilling is required.\n"
     ]
    },
    {
     "name": "stdout",
     "output_type": "stream",
     "text": [
      "\u001b[36m(DefaultActor pid=72868)\u001b[0m 441/441 - 115s - loss: 0.0383 - sparse_categorical_accuracy: 0.9882 - 115s/epoch - 260ms/step\n"
     ]
    },
    {
     "name": "stderr",
     "output_type": "stream",
     "text": [
      "\u001b[33m(raylet)\u001b[0m [2024-06-23 20:04:18,750 E 72039 72072] (raylet) file_system_monitor.cc:111: /tmp/ray/session_2024-06-23_19-39-42_969375_64620 is over 95% full, available space: 2485805056; capacity: 51989970944. Object creation will fail if spilling is required.\n",
      "DEBUG flwr 2024-06-23 20:04:27,003 | server.py:236 | fit_round 10 received 2 results and 0 failures\n"
     ]
    },
    {
     "name": "stdout",
     "output_type": "stream",
     "text": [
      "\u001b[36m(DefaultActor pid=72869)\u001b[0m 540/540 - 125s - loss: 0.0557 - sparse_categorical_accuracy: 0.9800 - 125s/epoch - 231ms/step\n"
     ]
    },
    {
     "name": "stderr",
     "output_type": "stream",
     "text": [
      "\u001b[33m(raylet)\u001b[0m [2024-06-23 20:04:28,837 E 72039 72072] (raylet) file_system_monitor.cc:111: /tmp/ray/session_2024-06-23_19-39-42_969375_64620 is over 95% full, available space: 2485805056; capacity: 51989970944. Object creation will fail if spilling is required.\n"
     ]
    },
    {
     "name": "stdout",
     "output_type": "stream",
     "text": [
      "254/254 - 8s - loss: 0.1134 - sparse_categorical_accuracy: 0.9641 - 8s/epoch - 31ms/step\n"
     ]
    },
    {
     "name": "stderr",
     "output_type": "stream",
     "text": [
      "\u001b[33m(raylet)\u001b[0m [2024-06-23 20:04:38,951 E 72039 72072] (raylet) file_system_monitor.cc:111: /tmp/ray/session_2024-06-23_19-39-42_969375_64620 is over 95% full, available space: 2485805056; capacity: 51989970944. Object creation will fail if spilling is required.\n",
      "INFO flwr 2024-06-23 20:04:43,519 | server.py:125 | fit progress: (10, 0.11339615285396576, {'accuracy': 0.964069664478302, 'precision': 0.9642113114417025, 'recall': 0.9640696382269416, 'f1score': 0.9641089038754347}, 1477.3867283270083)\n",
      "INFO flwr 2024-06-23 20:04:43,519 | server.py:171 | evaluate_round 10: no clients selected, cancel\n",
      "INFO flwr 2024-06-23 20:04:43,520 | server.py:153 | FL finished in 1477.3879834140098\n",
      "INFO flwr 2024-06-23 20:04:43,520 | app.py:226 | app_fit: losses_distributed []\n",
      "INFO flwr 2024-06-23 20:04:43,521 | app.py:227 | app_fit: metrics_distributed_fit {}\n",
      "INFO flwr 2024-06-23 20:04:43,521 | app.py:228 | app_fit: metrics_distributed {}\n",
      "INFO flwr 2024-06-23 20:04:43,521 | app.py:229 | app_fit: losses_centralized [(0, 1.081117033958435), (1, 0.4687023460865021), (2, 0.354851633310318), (3, 0.2408255785703659), (4, 0.22792181372642517), (5, 0.22933730483055115), (6, 0.15017542243003845), (7, 0.13529004156589508), (8, 0.12883754074573517), (9, 0.13972382247447968), (10, 0.11339615285396576)]\n",
      "INFO flwr 2024-06-23 20:04:43,522 | app.py:230 | app_fit: metrics_centralized {'accuracy': [(0, 0.5232744812965393), (1, 0.791208803653717), (2, 0.8570193648338318), (3, 0.9367823004722595), (4, 0.9390048384666443), (5, 0.9251759648323059), (6, 0.9502407908439636), (7, 0.9577725529670715), (8, 0.960612416267395), (9, 0.9599950313568115), (10, 0.964069664478302)], 'precision': [(0, 0.9998765279664156), (1, 0.8548482829007428), (2, 0.8874808047445896), (3, 0.937136379913105), (4, 0.9399297478484646), (5, 0.9288995965735258), (6, 0.9500655352161599), (7, 0.9577021715881961), (8, 0.9605100658699092), (9, 0.9602123395547824), (10, 0.9642113114417025)], 'recall': [(0, 0.5232744783306581), (1, 0.7912087912087912), (2, 0.8570193851092728), (3, 0.9367823188047907), (4, 0.9390048154093098), (5, 0.9251759476478577), (6, 0.9502407704654896), (7, 0.9577725645141375), (8, 0.9606124212865786), (9, 0.9599950611186566), (10, 0.9640696382269416)], 'f1score': [(0, 0.687009845253189), (1, 0.7882356113276117), (2, 0.8539244299159343), (3, 0.9362165531108407), (4, 0.9383825454995445), (5, 0.9240546041596305), (6, 0.9501028354494315), (7, 0.9577346179334542), (8, 0.9605501665360718), (9, 0.9597440057883133), (10, 0.9641089038754347)]}\n"
     ]
    },
    {
     "name": "stderr",
     "output_type": "stream",
     "text": [
      "\u001b[33m(raylet)\u001b[0m [2024-06-23 20:04:48,960 E 72039 72072] (raylet) file_system_monitor.cc:111: /tmp/ray/session_2024-06-23_19-39-42_969375_64620 is over 95% full, available space: 2485743616; capacity: 51989970944. Object creation will fail if spilling is required.\n",
      "\u001b[33m(raylet)\u001b[0m [2024-06-23 20:04:58,976 E 72039 72072] (raylet) file_system_monitor.cc:111: /tmp/ray/session_2024-06-23_19-39-42_969375_64620 is over 95% full, available space: 2485727232; capacity: 51989970944. Object creation will fail if spilling is required.\n",
      "\u001b[33m(raylet)\u001b[0m [2024-06-23 20:05:08,993 E 72039 72072] (raylet) file_system_monitor.cc:111: /tmp/ray/session_2024-06-23_19-39-42_969375_64620 is over 95% full, available space: 2485723136; capacity: 51989970944. Object creation will fail if spilling is required.\n",
      "\u001b[33m(raylet)\u001b[0m [2024-06-23 20:05:19,011 E 72039 72072] (raylet) file_system_monitor.cc:111: /tmp/ray/session_2024-06-23_19-39-42_969375_64620 is over 95% full, available space: 2485723136; capacity: 51989970944. Object creation will fail if spilling is required.\n",
      "\u001b[33m(raylet)\u001b[0m [2024-06-23 20:05:29,028 E 72039 72072] (raylet) file_system_monitor.cc:111: /tmp/ray/session_2024-06-23_19-39-42_969375_64620 is over 95% full, available space: 2485723136; capacity: 51989970944. Object creation will fail if spilling is required.\n",
      "\u001b[33m(raylet)\u001b[0m [2024-06-23 20:05:39,045 E 72039 72072] (raylet) file_system_monitor.cc:111: /tmp/ray/session_2024-06-23_19-39-42_969375_64620 is over 95% full, available space: 2485714944; capacity: 51989970944. Object creation will fail if spilling is required.\n",
      "\u001b[33m(raylet)\u001b[0m [2024-06-23 20:05:49,061 E 72039 72072] (raylet) file_system_monitor.cc:111: /tmp/ray/session_2024-06-23_19-39-42_969375_64620 is over 95% full, available space: 2485661696; capacity: 51989970944. Object creation will fail if spilling is required.\n",
      "\u001b[33m(raylet)\u001b[0m [2024-06-23 20:05:59,077 E 72039 72072] (raylet) file_system_monitor.cc:111: /tmp/ray/session_2024-06-23_19-39-42_969375_64620 is over 95% full, available space: 2485649408; capacity: 51989970944. Object creation will fail if spilling is required.\n",
      "\u001b[33m(raylet)\u001b[0m [2024-06-23 20:06:09,094 E 72039 72072] (raylet) file_system_monitor.cc:111: /tmp/ray/session_2024-06-23_19-39-42_969375_64620 is over 95% full, available space: 2485645312; capacity: 51989970944. Object creation will fail if spilling is required.\n",
      "\u001b[33m(raylet)\u001b[0m [2024-06-23 20:06:19,113 E 72039 72072] (raylet) file_system_monitor.cc:111: /tmp/ray/session_2024-06-23_19-39-42_969375_64620 is over 95% full, available space: 2485645312; capacity: 51989970944. Object creation will fail if spilling is required.\n",
      "\u001b[33m(raylet)\u001b[0m [2024-06-23 20:06:29,133 E 72039 72072] (raylet) file_system_monitor.cc:111: /tmp/ray/session_2024-06-23_19-39-42_969375_64620 is over 95% full, available space: 2485645312; capacity: 51989970944. Object creation will fail if spilling is required.\n",
      "\u001b[33m(raylet)\u001b[0m [2024-06-23 20:06:39,148 E 72039 72072] (raylet) file_system_monitor.cc:111: /tmp/ray/session_2024-06-23_19-39-42_969375_64620 is over 95% full, available space: 2485641216; capacity: 51989970944. Object creation will fail if spilling is required.\n",
      "\u001b[33m(raylet)\u001b[0m [2024-06-23 20:06:49,165 E 72039 72072] (raylet) file_system_monitor.cc:111: /tmp/ray/session_2024-06-23_19-39-42_969375_64620 is over 95% full, available space: 2485587968; capacity: 51989970944. Object creation will fail if spilling is required.\n",
      "\u001b[33m(raylet)\u001b[0m [2024-06-23 20:06:59,180 E 72039 72072] (raylet) file_system_monitor.cc:111: /tmp/ray/session_2024-06-23_19-39-42_969375_64620 is over 95% full, available space: 2485567488; capacity: 51989970944. Object creation will fail if spilling is required.\n",
      "\u001b[33m(raylet)\u001b[0m [2024-06-23 20:07:09,198 E 72039 72072] (raylet) file_system_monitor.cc:111: /tmp/ray/session_2024-06-23_19-39-42_969375_64620 is over 95% full, available space: 2485567488; capacity: 51989970944. Object creation will fail if spilling is required.\n",
      "\u001b[33m(raylet)\u001b[0m [2024-06-23 20:07:19,217 E 72039 72072] (raylet) file_system_monitor.cc:111: /tmp/ray/session_2024-06-23_19-39-42_969375_64620 is over 95% full, available space: 2485567488; capacity: 51989970944. Object creation will fail if spilling is required.\n",
      "\u001b[33m(raylet)\u001b[0m [2024-06-23 20:07:29,237 E 72039 72072] (raylet) file_system_monitor.cc:111: /tmp/ray/session_2024-06-23_19-39-42_969375_64620 is over 95% full, available space: 2485563392; capacity: 51989970944. Object creation will fail if spilling is required.\n",
      "\u001b[33m(raylet)\u001b[0m [2024-06-23 20:07:39,255 E 72039 72072] (raylet) file_system_monitor.cc:111: /tmp/ray/session_2024-06-23_19-39-42_969375_64620 is over 95% full, available space: 2485559296; capacity: 51989970944. Object creation will fail if spilling is required.\n",
      "\u001b[33m(raylet)\u001b[0m [2024-06-23 20:07:49,274 E 72039 72072] (raylet) file_system_monitor.cc:111: /tmp/ray/session_2024-06-23_19-39-42_969375_64620 is over 95% full, available space: 2485514240; capacity: 51989970944. Object creation will fail if spilling is required.\n",
      "\u001b[33m(raylet)\u001b[0m [2024-06-23 20:07:59,294 E 72039 72072] (raylet) file_system_monitor.cc:111: /tmp/ray/session_2024-06-23_19-39-42_969375_64620 is over 95% full, available space: 2485493760; capacity: 51989970944. Object creation will fail if spilling is required.\n",
      "\u001b[33m(raylet)\u001b[0m [2024-06-23 20:08:09,314 E 72039 72072] (raylet) file_system_monitor.cc:111: /tmp/ray/session_2024-06-23_19-39-42_969375_64620 is over 95% full, available space: 2485489664; capacity: 51989970944. Object creation will fail if spilling is required.\n",
      "\u001b[33m(raylet)\u001b[0m [2024-06-23 20:08:19,333 E 72039 72072] (raylet) file_system_monitor.cc:111: /tmp/ray/session_2024-06-23_19-39-42_969375_64620 is over 95% full, available space: 2485485568; capacity: 51989970944. Object creation will fail if spilling is required.\n",
      "\u001b[33m(raylet)\u001b[0m [2024-06-23 20:08:29,352 E 72039 72072] (raylet) file_system_monitor.cc:111: /tmp/ray/session_2024-06-23_19-39-42_969375_64620 is over 95% full, available space: 2485481472; capacity: 51989970944. Object creation will fail if spilling is required.\n",
      "\u001b[33m(raylet)\u001b[0m [2024-06-23 20:08:39,370 E 72039 72072] (raylet) file_system_monitor.cc:111: /tmp/ray/session_2024-06-23_19-39-42_969375_64620 is over 95% full, available space: 2485481472; capacity: 51989970944. Object creation will fail if spilling is required.\n",
      "\u001b[33m(raylet)\u001b[0m [2024-06-23 20:08:49,391 E 72039 72072] (raylet) file_system_monitor.cc:111: /tmp/ray/session_2024-06-23_19-39-42_969375_64620 is over 95% full, available space: 2485415936; capacity: 51989970944. Object creation will fail if spilling is required.\n",
      "\u001b[33m(raylet)\u001b[0m [2024-06-23 20:08:59,409 E 72039 72072] (raylet) file_system_monitor.cc:111: /tmp/ray/session_2024-06-23_19-39-42_969375_64620 is over 95% full, available space: 2485407744; capacity: 51989970944. Object creation will fail if spilling is required.\n",
      "\u001b[33m(raylet)\u001b[0m [2024-06-23 20:09:09,427 E 72039 72072] (raylet) file_system_monitor.cc:111: /tmp/ray/session_2024-06-23_19-39-42_969375_64620 is over 95% full, available space: 2485407744; capacity: 51989970944. Object creation will fail if spilling is required.\n",
      "\u001b[33m(raylet)\u001b[0m [2024-06-23 20:09:19,449 E 72039 72072] (raylet) file_system_monitor.cc:111: /tmp/ray/session_2024-06-23_19-39-42_969375_64620 is over 95% full, available space: 2485403648; capacity: 51989970944. Object creation will fail if spilling is required.\n",
      "\u001b[33m(raylet)\u001b[0m [2024-06-23 20:09:29,471 E 72039 72072] (raylet) file_system_monitor.cc:111: /tmp/ray/session_2024-06-23_19-39-42_969375_64620 is over 95% full, available space: 2485403648; capacity: 51989970944. Object creation will fail if spilling is required.\n",
      "\u001b[33m(raylet)\u001b[0m [2024-06-23 20:09:39,489 E 72039 72072] (raylet) file_system_monitor.cc:111: /tmp/ray/session_2024-06-23_19-39-42_969375_64620 is over 95% full, available space: 2485403648; capacity: 51989970944. Object creation will fail if spilling is required.\n",
      "\u001b[33m(raylet)\u001b[0m [2024-06-23 20:09:49,508 E 72039 72072] (raylet) file_system_monitor.cc:111: /tmp/ray/session_2024-06-23_19-39-42_969375_64620 is over 95% full, available space: 2485346304; capacity: 51989970944. Object creation will fail if spilling is required.\n",
      "\u001b[33m(raylet)\u001b[0m [2024-06-23 20:09:59,526 E 72039 72072] (raylet) file_system_monitor.cc:111: /tmp/ray/session_2024-06-23_19-39-42_969375_64620 is over 95% full, available space: 2485342208; capacity: 51989970944. Object creation will fail if spilling is required.\n",
      "\u001b[33m(raylet)\u001b[0m [2024-06-23 20:10:09,545 E 72039 72072] (raylet) file_system_monitor.cc:111: /tmp/ray/session_2024-06-23_19-39-42_969375_64620 is over 95% full, available space: 2485338112; capacity: 51989970944. Object creation will fail if spilling is required.\n",
      "\u001b[33m(raylet)\u001b[0m [2024-06-23 20:10:19,562 E 72039 72072] (raylet) file_system_monitor.cc:111: /tmp/ray/session_2024-06-23_19-39-42_969375_64620 is over 95% full, available space: 2485334016; capacity: 51989970944. Object creation will fail if spilling is required.\n",
      "\u001b[33m(raylet)\u001b[0m [2024-06-23 20:10:29,582 E 72039 72072] (raylet) file_system_monitor.cc:111: /tmp/ray/session_2024-06-23_19-39-42_969375_64620 is over 95% full, available space: 2485329920; capacity: 51989970944. Object creation will fail if spilling is required.\n",
      "\u001b[33m(raylet)\u001b[0m [2024-06-23 20:10:39,603 E 72039 72072] (raylet) file_system_monitor.cc:111: /tmp/ray/session_2024-06-23_19-39-42_969375_64620 is over 95% full, available space: 2485321728; capacity: 51989970944. Object creation will fail if spilling is required.\n",
      "\u001b[33m(raylet)\u001b[0m [2024-06-23 20:10:49,624 E 72039 72072] (raylet) file_system_monitor.cc:111: /tmp/ray/session_2024-06-23_19-39-42_969375_64620 is over 95% full, available space: 2485276672; capacity: 51989970944. Object creation will fail if spilling is required.\n",
      "\u001b[33m(raylet)\u001b[0m [2024-06-23 20:10:59,644 E 72039 72072] (raylet) file_system_monitor.cc:111: /tmp/ray/session_2024-06-23_19-39-42_969375_64620 is over 95% full, available space: 2485276672; capacity: 51989970944. Object creation will fail if spilling is required.\n",
      "\u001b[33m(raylet)\u001b[0m [2024-06-23 20:11:09,664 E 72039 72072] (raylet) file_system_monitor.cc:111: /tmp/ray/session_2024-06-23_19-39-42_969375_64620 is over 95% full, available space: 2485272576; capacity: 51989970944. Object creation will fail if spilling is required.\n",
      "\u001b[33m(raylet)\u001b[0m [2024-06-23 20:11:19,681 E 72039 72072] (raylet) file_system_monitor.cc:111: /tmp/ray/session_2024-06-23_19-39-42_969375_64620 is over 95% full, available space: 2485272576; capacity: 51989970944. Object creation will fail if spilling is required.\n",
      "\u001b[33m(raylet)\u001b[0m [2024-06-23 20:11:29,704 E 72039 72072] (raylet) file_system_monitor.cc:111: /tmp/ray/session_2024-06-23_19-39-42_969375_64620 is over 95% full, available space: 2485268480; capacity: 51989970944. Object creation will fail if spilling is required.\n",
      "\u001b[33m(raylet)\u001b[0m [2024-06-23 20:11:39,722 E 72039 72072] (raylet) file_system_monitor.cc:111: /tmp/ray/session_2024-06-23_19-39-42_969375_64620 is over 95% full, available space: 2485256192; capacity: 51989970944. Object creation will fail if spilling is required.\n",
      "\u001b[33m(raylet)\u001b[0m [2024-06-23 20:11:49,741 E 72039 72072] (raylet) file_system_monitor.cc:111: /tmp/ray/session_2024-06-23_19-39-42_969375_64620 is over 95% full, available space: 2485215232; capacity: 51989970944. Object creation will fail if spilling is required.\n",
      "\u001b[33m(raylet)\u001b[0m [2024-06-23 20:11:59,760 E 72039 72072] (raylet) file_system_monitor.cc:111: /tmp/ray/session_2024-06-23_19-39-42_969375_64620 is over 95% full, available space: 2485211136; capacity: 51989970944. Object creation will fail if spilling is required.\n",
      "\u001b[33m(raylet)\u001b[0m [2024-06-23 20:12:09,782 E 72039 72072] (raylet) file_system_monitor.cc:111: /tmp/ray/session_2024-06-23_19-39-42_969375_64620 is over 95% full, available space: 2485211136; capacity: 51989970944. Object creation will fail if spilling is required.\n",
      "\u001b[33m(raylet)\u001b[0m [2024-06-23 20:12:19,801 E 72039 72072] (raylet) file_system_monitor.cc:111: /tmp/ray/session_2024-06-23_19-39-42_969375_64620 is over 95% full, available space: 2485211136; capacity: 51989970944. Object creation will fail if spilling is required.\n",
      "\u001b[33m(raylet)\u001b[0m [2024-06-23 20:12:29,820 E 72039 72072] (raylet) file_system_monitor.cc:111: /tmp/ray/session_2024-06-23_19-39-42_969375_64620 is over 95% full, available space: 2485207040; capacity: 51989970944. Object creation will fail if spilling is required.\n",
      "\u001b[33m(raylet)\u001b[0m [2024-06-23 20:12:39,838 E 72039 72072] (raylet) file_system_monitor.cc:111: /tmp/ray/session_2024-06-23_19-39-42_969375_64620 is over 95% full, available space: 2485202944; capacity: 51989970944. Object creation will fail if spilling is required.\n",
      "\u001b[33m(raylet)\u001b[0m [2024-06-23 20:12:49,852 E 72039 72072] (raylet) file_system_monitor.cc:111: /tmp/ray/session_2024-06-23_19-39-42_969375_64620 is over 95% full, available space: 2485149696; capacity: 51989970944. Object creation will fail if spilling is required.\n",
      "\u001b[33m(raylet)\u001b[0m [2024-06-23 20:12:59,869 E 72039 72072] (raylet) file_system_monitor.cc:111: /tmp/ray/session_2024-06-23_19-39-42_969375_64620 is over 95% full, available space: 2485141504; capacity: 51989970944. Object creation will fail if spilling is required.\n",
      "\u001b[33m(raylet)\u001b[0m [2024-06-23 20:13:09,888 E 72039 72072] (raylet) file_system_monitor.cc:111: /tmp/ray/session_2024-06-23_19-39-42_969375_64620 is over 95% full, available space: 2485137408; capacity: 51989970944. Object creation will fail if spilling is required.\n",
      "\u001b[33m(raylet)\u001b[0m [2024-06-23 20:13:19,909 E 72039 72072] (raylet) file_system_monitor.cc:111: /tmp/ray/session_2024-06-23_19-39-42_969375_64620 is over 95% full, available space: 2485133312; capacity: 51989970944. Object creation will fail if spilling is required.\n",
      "\u001b[33m(raylet)\u001b[0m [2024-06-23 20:13:29,929 E 72039 72072] (raylet) file_system_monitor.cc:111: /tmp/ray/session_2024-06-23_19-39-42_969375_64620 is over 95% full, available space: 2485133312; capacity: 51989970944. Object creation will fail if spilling is required.\n",
      "\u001b[33m(raylet)\u001b[0m [2024-06-23 20:13:39,953 E 72039 72072] (raylet) file_system_monitor.cc:111: /tmp/ray/session_2024-06-23_19-39-42_969375_64620 is over 95% full, available space: 2485129216; capacity: 51989970944. Object creation will fail if spilling is required.\n",
      "\u001b[33m(raylet)\u001b[0m [2024-06-23 20:13:49,976 E 72039 72072] (raylet) file_system_monitor.cc:111: /tmp/ray/session_2024-06-23_19-39-42_969375_64620 is over 95% full, available space: 2485080064; capacity: 51989970944. Object creation will fail if spilling is required.\n",
      "\u001b[33m(raylet)\u001b[0m [2024-06-23 20:13:59,998 E 72039 72072] (raylet) file_system_monitor.cc:111: /tmp/ray/session_2024-06-23_19-39-42_969375_64620 is over 95% full, available space: 2485080064; capacity: 51989970944. Object creation will fail if spilling is required.\n",
      "\u001b[33m(raylet)\u001b[0m [2024-06-23 20:14:10,018 E 72039 72072] (raylet) file_system_monitor.cc:111: /tmp/ray/session_2024-06-23_19-39-42_969375_64620 is over 95% full, available space: 2485080064; capacity: 51989970944. Object creation will fail if spilling is required.\n",
      "\u001b[33m(raylet)\u001b[0m [2024-06-23 20:14:20,041 E 72039 72072] (raylet) file_system_monitor.cc:111: /tmp/ray/session_2024-06-23_19-39-42_969375_64620 is over 95% full, available space: 2485075968; capacity: 51989970944. Object creation will fail if spilling is required.\n",
      "\u001b[33m(raylet)\u001b[0m [2024-06-23 20:14:30,065 E 72039 72072] (raylet) file_system_monitor.cc:111: /tmp/ray/session_2024-06-23_19-39-42_969375_64620 is over 95% full, available space: 2485071872; capacity: 51989970944. Object creation will fail if spilling is required.\n",
      "\u001b[33m(raylet)\u001b[0m [2024-06-23 20:14:40,085 E 72039 72072] (raylet) file_system_monitor.cc:111: /tmp/ray/session_2024-06-23_19-39-42_969375_64620 is over 95% full, available space: 2485067776; capacity: 51989970944. Object creation will fail if spilling is required.\n",
      "\u001b[33m(raylet)\u001b[0m [2024-06-23 20:14:50,102 E 72039 72072] (raylet) file_system_monitor.cc:111: /tmp/ray/session_2024-06-23_19-39-42_969375_64620 is over 95% full, available space: 2485014528; capacity: 51989970944. Object creation will fail if spilling is required.\n",
      "\u001b[33m(raylet)\u001b[0m [2024-06-23 20:15:00,121 E 72039 72072] (raylet) file_system_monitor.cc:111: /tmp/ray/session_2024-06-23_19-39-42_969375_64620 is over 95% full, available space: 2485014528; capacity: 51989970944. Object creation will fail if spilling is required.\n",
      "\u001b[33m(raylet)\u001b[0m [2024-06-23 20:15:10,141 E 72039 72072] (raylet) file_system_monitor.cc:111: /tmp/ray/session_2024-06-23_19-39-42_969375_64620 is over 95% full, available space: 2485010432; capacity: 51989970944. Object creation will fail if spilling is required.\n",
      "\u001b[33m(raylet)\u001b[0m [2024-06-23 20:15:20,165 E 72039 72072] (raylet) file_system_monitor.cc:111: /tmp/ray/session_2024-06-23_19-39-42_969375_64620 is over 95% full, available space: 2485006336; capacity: 51989970944. Object creation will fail if spilling is required.\n",
      "\u001b[33m(raylet)\u001b[0m [2024-06-23 20:15:30,188 E 72039 72072] (raylet) file_system_monitor.cc:111: /tmp/ray/session_2024-06-23_19-39-42_969375_64620 is over 95% full, available space: 2484977664; capacity: 51989970944. Object creation will fail if spilling is required.\n",
      "\u001b[33m(raylet)\u001b[0m [2024-06-23 20:15:40,208 E 72039 72072] (raylet) file_system_monitor.cc:111: /tmp/ray/session_2024-06-23_19-39-42_969375_64620 is over 95% full, available space: 2484985856; capacity: 51989970944. Object creation will fail if spilling is required.\n",
      "\u001b[33m(raylet)\u001b[0m [2024-06-23 20:15:50,227 E 72039 72072] (raylet) file_system_monitor.cc:111: /tmp/ray/session_2024-06-23_19-39-42_969375_64620 is over 95% full, available space: 2484936704; capacity: 51989970944. Object creation will fail if spilling is required.\n",
      "\u001b[33m(raylet)\u001b[0m [2024-06-23 20:16:00,243 E 72039 72072] (raylet) file_system_monitor.cc:111: /tmp/ray/session_2024-06-23_19-39-42_969375_64620 is over 95% full, available space: 2484932608; capacity: 51989970944. Object creation will fail if spilling is required.\n",
      "\u001b[33m(raylet)\u001b[0m [2024-06-23 20:16:10,262 E 72039 72072] (raylet) file_system_monitor.cc:111: /tmp/ray/session_2024-06-23_19-39-42_969375_64620 is over 95% full, available space: 2484944896; capacity: 51989970944. Object creation will fail if spilling is required.\n",
      "\u001b[33m(raylet)\u001b[0m [2024-06-23 20:16:20,280 E 72039 72072] (raylet) file_system_monitor.cc:111: /tmp/ray/session_2024-06-23_19-39-42_969375_64620 is over 95% full, available space: 2484944896; capacity: 51989970944. Object creation will fail if spilling is required.\n",
      "\u001b[33m(raylet)\u001b[0m [2024-06-23 20:16:30,298 E 72039 72072] (raylet) file_system_monitor.cc:111: /tmp/ray/session_2024-06-23_19-39-42_969375_64620 is over 95% full, available space: 2484944896; capacity: 51989970944. Object creation will fail if spilling is required.\n",
      "\u001b[33m(raylet)\u001b[0m [2024-06-23 20:16:40,321 E 72039 72072] (raylet) file_system_monitor.cc:111: /tmp/ray/session_2024-06-23_19-39-42_969375_64620 is over 95% full, available space: 2484895744; capacity: 51989970944. Object creation will fail if spilling is required.\n",
      "\u001b[33m(raylet)\u001b[0m [2024-06-23 20:16:50,339 E 72039 72072] (raylet) file_system_monitor.cc:111: /tmp/ray/session_2024-06-23_19-39-42_969375_64620 is over 95% full, available space: 2484850688; capacity: 51989970944. Object creation will fail if spilling is required.\n",
      "\u001b[33m(raylet)\u001b[0m [2024-06-23 20:17:00,355 E 72039 72072] (raylet) file_system_monitor.cc:111: /tmp/ray/session_2024-06-23_19-39-42_969375_64620 is over 95% full, available space: 2484846592; capacity: 51989970944. Object creation will fail if spilling is required.\n",
      "\u001b[33m(raylet)\u001b[0m [2024-06-23 20:17:10,379 E 72039 72072] (raylet) file_system_monitor.cc:111: /tmp/ray/session_2024-06-23_19-39-42_969375_64620 is over 95% full, available space: 2484846592; capacity: 51989970944. Object creation will fail if spilling is required.\n",
      "\u001b[33m(raylet)\u001b[0m [2024-06-23 20:17:20,401 E 72039 72072] (raylet) file_system_monitor.cc:111: /tmp/ray/session_2024-06-23_19-39-42_969375_64620 is over 95% full, available space: 2484846592; capacity: 51989970944. Object creation will fail if spilling is required.\n",
      "\u001b[33m(raylet)\u001b[0m [2024-06-23 20:17:30,421 E 72039 72072] (raylet) file_system_monitor.cc:111: /tmp/ray/session_2024-06-23_19-39-42_969375_64620 is over 95% full, available space: 2484838400; capacity: 51989970944. Object creation will fail if spilling is required.\n",
      "\u001b[33m(raylet)\u001b[0m [2024-06-23 20:17:40,440 E 72039 72072] (raylet) file_system_monitor.cc:111: /tmp/ray/session_2024-06-23_19-39-42_969375_64620 is over 95% full, available space: 2484830208; capacity: 51989970944. Object creation will fail if spilling is required.\n",
      "\u001b[33m(raylet)\u001b[0m [2024-06-23 20:17:50,462 E 72039 72072] (raylet) file_system_monitor.cc:111: /tmp/ray/session_2024-06-23_19-39-42_969375_64620 is over 95% full, available space: 2484785152; capacity: 51989970944. Object creation will fail if spilling is required.\n",
      "\u001b[33m(raylet)\u001b[0m [2024-06-23 20:18:00,481 E 72039 72072] (raylet) file_system_monitor.cc:111: /tmp/ray/session_2024-06-23_19-39-42_969375_64620 is over 95% full, available space: 2484781056; capacity: 51989970944. Object creation will fail if spilling is required.\n",
      "\u001b[33m(raylet)\u001b[0m [2024-06-23 20:18:10,503 E 72039 72072] (raylet) file_system_monitor.cc:111: /tmp/ray/session_2024-06-23_19-39-42_969375_64620 is over 95% full, available space: 2484781056; capacity: 51989970944. Object creation will fail if spilling is required.\n",
      "\u001b[33m(raylet)\u001b[0m [2024-06-23 20:18:20,524 E 72039 72072] (raylet) file_system_monitor.cc:111: /tmp/ray/session_2024-06-23_19-39-42_969375_64620 is over 95% full, available space: 2484781056; capacity: 51989970944. Object creation will fail if spilling is required.\n",
      "\u001b[33m(raylet)\u001b[0m [2024-06-23 20:18:30,545 E 72039 72072] (raylet) file_system_monitor.cc:111: /tmp/ray/session_2024-06-23_19-39-42_969375_64620 is over 95% full, available space: 2484776960; capacity: 51989970944. Object creation will fail if spilling is required.\n",
      "\u001b[33m(raylet)\u001b[0m [2024-06-23 20:18:40,560 E 72039 72072] (raylet) file_system_monitor.cc:111: /tmp/ray/session_2024-06-23_19-39-42_969375_64620 is over 95% full, available space: 2484768768; capacity: 51989970944. Object creation will fail if spilling is required.\n",
      "\u001b[33m(raylet)\u001b[0m [2024-06-23 20:18:50,579 E 72039 72072] (raylet) file_system_monitor.cc:111: /tmp/ray/session_2024-06-23_19-39-42_969375_64620 is over 95% full, available space: 2484715520; capacity: 51989970944. Object creation will fail if spilling is required.\n",
      "\u001b[33m(raylet)\u001b[0m [2024-06-23 20:19:00,596 E 72039 72072] (raylet) file_system_monitor.cc:111: /tmp/ray/session_2024-06-23_19-39-42_969375_64620 is over 95% full, available space: 2484711424; capacity: 51989970944. Object creation will fail if spilling is required.\n",
      "\u001b[33m(raylet)\u001b[0m [2024-06-23 20:19:10,618 E 72039 72072] (raylet) file_system_monitor.cc:111: /tmp/ray/session_2024-06-23_19-39-42_969375_64620 is over 95% full, available space: 2484711424; capacity: 51989970944. Object creation will fail if spilling is required.\n",
      "\u001b[33m(raylet)\u001b[0m [2024-06-23 20:19:20,636 E 72039 72072] (raylet) file_system_monitor.cc:111: /tmp/ray/session_2024-06-23_19-39-42_969375_64620 is over 95% full, available space: 2484707328; capacity: 51989970944. Object creation will fail if spilling is required.\n",
      "\u001b[33m(raylet)\u001b[0m [2024-06-23 20:19:30,658 E 72039 72072] (raylet) file_system_monitor.cc:111: /tmp/ray/session_2024-06-23_19-39-42_969375_64620 is over 95% full, available space: 2484707328; capacity: 51989970944. Object creation will fail if spilling is required.\n",
      "\u001b[33m(raylet)\u001b[0m [2024-06-23 20:19:40,679 E 72039 72072] (raylet) file_system_monitor.cc:111: /tmp/ray/session_2024-06-23_19-39-42_969375_64620 is over 95% full, available space: 2484703232; capacity: 51989970944. Object creation will fail if spilling is required.\n",
      "\u001b[33m(raylet)\u001b[0m [2024-06-23 20:19:50,699 E 72039 72072] (raylet) file_system_monitor.cc:111: /tmp/ray/session_2024-06-23_19-39-42_969375_64620 is over 95% full, available space: 2484654080; capacity: 51989970944. Object creation will fail if spilling is required.\n",
      "\u001b[33m(raylet)\u001b[0m [2024-06-23 20:20:00,717 E 72039 72072] (raylet) file_system_monitor.cc:111: /tmp/ray/session_2024-06-23_19-39-42_969375_64620 is over 95% full, available space: 2484649984; capacity: 51989970944. Object creation will fail if spilling is required.\n",
      "\u001b[33m(raylet)\u001b[0m [2024-06-23 20:20:10,737 E 72039 72072] (raylet) file_system_monitor.cc:111: /tmp/ray/session_2024-06-23_19-39-42_969375_64620 is over 95% full, available space: 2484645888; capacity: 51989970944. Object creation will fail if spilling is required.\n",
      "\u001b[33m(raylet)\u001b[0m [2024-06-23 20:20:20,758 E 72039 72072] (raylet) file_system_monitor.cc:111: /tmp/ray/session_2024-06-23_19-39-42_969375_64620 is over 95% full, available space: 2484645888; capacity: 51989970944. Object creation will fail if spilling is required.\n",
      "\u001b[33m(raylet)\u001b[0m [2024-06-23 20:20:30,778 E 72039 72072] (raylet) file_system_monitor.cc:111: /tmp/ray/session_2024-06-23_19-39-42_969375_64620 is over 95% full, available space: 2484637696; capacity: 51989970944. Object creation will fail if spilling is required.\n",
      "\u001b[33m(raylet)\u001b[0m [2024-06-23 20:20:40,798 E 72039 72072] (raylet) file_system_monitor.cc:111: /tmp/ray/session_2024-06-23_19-39-42_969375_64620 is over 95% full, available space: 2484645888; capacity: 51989970944. Object creation will fail if spilling is required.\n",
      "\u001b[33m(raylet)\u001b[0m [2024-06-23 20:20:50,818 E 72039 72072] (raylet) file_system_monitor.cc:111: /tmp/ray/session_2024-06-23_19-39-42_969375_64620 is over 95% full, available space: 2484596736; capacity: 51989970944. Object creation will fail if spilling is required.\n",
      "\u001b[33m(raylet)\u001b[0m [2024-06-23 20:21:00,836 E 72039 72072] (raylet) file_system_monitor.cc:111: /tmp/ray/session_2024-06-23_19-39-42_969375_64620 is over 95% full, available space: 2484596736; capacity: 51989970944. Object creation will fail if spilling is required.\n",
      "\u001b[33m(raylet)\u001b[0m [2024-06-23 20:21:10,859 E 72039 72072] (raylet) file_system_monitor.cc:111: /tmp/ray/session_2024-06-23_19-39-42_969375_64620 is over 95% full, available space: 2484592640; capacity: 51989970944. Object creation will fail if spilling is required.\n",
      "\u001b[33m(raylet)\u001b[0m [2024-06-23 20:21:20,882 E 72039 72072] (raylet) file_system_monitor.cc:111: /tmp/ray/session_2024-06-23_19-39-42_969375_64620 is over 95% full, available space: 2484588544; capacity: 51989970944. Object creation will fail if spilling is required.\n",
      "\u001b[33m(raylet)\u001b[0m [2024-06-23 20:21:30,901 E 72039 72072] (raylet) file_system_monitor.cc:111: /tmp/ray/session_2024-06-23_19-39-42_969375_64620 is over 95% full, available space: 2484584448; capacity: 51989970944. Object creation will fail if spilling is required.\n",
      "\u001b[33m(raylet)\u001b[0m [2024-06-23 20:21:40,921 E 72039 72072] (raylet) file_system_monitor.cc:111: /tmp/ray/session_2024-06-23_19-39-42_969375_64620 is over 95% full, available space: 2484580352; capacity: 51989970944. Object creation will fail if spilling is required.\n",
      "\u001b[33m(raylet)\u001b[0m [2024-06-23 20:21:50,939 E 72039 72072] (raylet) file_system_monitor.cc:111: /tmp/ray/session_2024-06-23_19-39-42_969375_64620 is over 95% full, available space: 2484535296; capacity: 51989970944. Object creation will fail if spilling is required.\n"
     ]
    }
   ],
   "source": [
    "# Định nghĩa mô hình\n",
    "def get_model():\n",
    "    model = Sequential()\n",
    "    model.add(Conv2D(filters=32, kernel_size=(5, 5), padding='Same',\n",
    "                     activation='relu', input_shape=(20, NUM_FEATURE, 1)))\n",
    "    model.add(Conv2D(filters=32, kernel_size=(5, 5), padding='Same',\n",
    "                     activation='relu'))\n",
    "    model.add(MaxPool2D(pool_size=(2, 2)))\n",
    "    model.add(Dropout(0.25))\n",
    "\n",
    "    model.add(Conv2D(filters=64, kernel_size=(3, 3), padding='Same',\n",
    "                     activation='relu'))\n",
    "    model.add(Conv2D(filters=64, kernel_size=(3, 3), padding='Same',\n",
    "                     activation='relu'))\n",
    "    model.add(MaxPool2D(pool_size=(2, 2), strides=(2, 2)))\n",
    "    model.add(Dropout(0.25))\n",
    "    model.add(Flatten())\n",
    "    model.add(Dense(256, activation=\"relu\"))\n",
    "    model.add(Dropout(0.5))\n",
    "    model.add(Dense(NUM_CLASSES, activation=\"softmax\"))\n",
    "\n",
    "    model.compile(optimizer=tf.keras.optimizers.Adam(\n",
    "        learning_rate=client_lr), loss=tf.keras.losses.SparseCategoricalCrossentropy(),\n",
    "        metrics=[tf.keras.metrics.SparseCategoricalAccuracy()])\n",
    "\n",
    "    return model\n",
    "\n",
    "class Client(fl.client.NumPyClient):\n",
    "    def __init__(self, model, x_train, y_train) -> None:\n",
    "        self.model = model\n",
    "        self.x_train, self.y_train = x_train, y_train\n",
    "\n",
    "    def get_parameters(self, config):\n",
    "        return self.model.get_weights()\n",
    "    \n",
    "    def fit(self, parameters, config):\n",
    "        self.model.set_weights(parameters)\n",
    "        self.model.fit(self.x_train, self.y_train,verbose=2, batch_size=BATCH_SIZE, epochs=1)\n",
    "        return self.model.get_weights(), len(self.x_train), {\"er\" : 1}\n",
    "    \n",
    "    def evaluate(self, parameters, config):\n",
    "        self.model.set_weights(parameters)\n",
    "        loss, accuracy = self.model.evaluate(self.x_train, self.y_train)\n",
    "        return loss, len(self.x_train), {'accuracy': accuracy}\n",
    "\n",
    "def client_fn(cid: str) -> fl.client.Client:\n",
    "    model = get_model()\n",
    "    x_train_cid = list_x_train[int(cid)]\n",
    "    y_train_cid = list_y_train[int(cid)]\n",
    "    return Client(model, x_train_cid, y_train_cid)\n",
    "\n",
    "def evaluate_DNN_CL(\n",
    "    server_round: int,\n",
    "    parameters: fl.common.NDArrays,\n",
    "    config: Dict[str, fl.common.Scalar],\n",
    ") -> Optional[Tuple[float, Dict[str, fl.common.Scalar]]]:\n",
    "    net = get_model()\n",
    "    net.set_weights(parameters)\n",
    "    loss, accuracy = net.evaluate(x_test, y_test, verbose=2)\n",
    "    predictions = net.predict(x_test, verbose = 3)  # Dự đoán nhãn trên tập kiểm tra\n",
    "    y_pred = np.argmax(predictions, axis=1)\n",
    "    precision = precision_score(y_pred, y_test, average='weighted',zero_division = 0)\n",
    "    recall = recall_score(y_pred, y_test, average='weighted',zero_division = 0)\n",
    "    f1score = f1_score(y_pred, y_test, average='weighted',zero_division = 0)\n",
    "    return loss, {\"accuracy\": accuracy,\"precision\": precision,\"recall\": recall,\"f1score\": f1score}\n",
    "\n",
    "strategy = FedImp(evaluate_fn=evaluate_DNN_CL, fraction_evaluate=0)\n",
    "\n",
    "h = fl.simulation.start_simulation(\n",
    "    client_fn=client_fn,\n",
    "    num_clients=2,\n",
    "    strategy=strategy,\n",
    "    config=fl.server.ServerConfig(num_rounds=10),\n",
    "    client_resources = {'num_cpus': 8, 'num_gpus': 0},\n",
    ")"
   ]
  }
 ],
 "metadata": {
  "kernelspec": {
   "display_name": "Python 3",
   "language": "python",
   "name": "python3"
  },
  "language_info": {
   "codemirror_mode": {
    "name": "ipython",
    "version": 3
   },
   "file_extension": ".py",
   "mimetype": "text/x-python",
   "name": "python",
   "nbconvert_exporter": "python",
   "pygments_lexer": "ipython3",
   "version": "3.11.5"
  }
 },
 "nbformat": 4,
 "nbformat_minor": 2
}

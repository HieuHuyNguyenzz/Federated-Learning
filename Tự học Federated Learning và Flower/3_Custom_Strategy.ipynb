{
  "nbformat": 4,
  "nbformat_minor": 0,
  "metadata": {
    "colab": {
      "provenance": [],
      "collapsed_sections": [
        "LEfHCd_0ig4Q"
      ]
    },
    "kernelspec": {
      "name": "python3",
      "display_name": "Python 3"
    },
    "language_info": {
      "name": "python"
    }
  },
  "cells": [
    {
      "cell_type": "markdown",
      "source": [
        "# Lý thuyết\n",
        "Flower có sẵn rất nhiều strategy được đề xuất trong các bài báo như FedAvg, FedProx, ... Tuy nhiên Flower cũng cho phép tự tạo Strategy cho riêng mình."
      ],
      "metadata": {
        "id": "LEfHCd_0ig4Q"
      }
    },
    {
      "cell_type": "markdown",
      "source": [
        "Một Strategy để có thể chạy trên Flower cần phải có các hàm được viết trừu tượng sau:"
      ],
      "metadata": {
        "id": "UADOs5WNj4Lr"
      }
    },
    {
      "cell_type": "code",
      "execution_count": null,
      "metadata": {
        "id": "6amfTgG4hUNC"
      },
      "outputs": [],
      "source": [
        "class Strategy(ABC):\n",
        "    \"\"\"Abstract base class for server strategy implementations.\"\"\"\n",
        "\n",
        "    @abstractmethod\n",
        "    def initialize_parameters(\n",
        "        self, client_manager: ClientManager\n",
        "    ) -> Optional[Parameters]:\n",
        "        \"\"\"Initialize the (global) model parameters.\"\"\"\n",
        "\n",
        "    @abstractmethod\n",
        "    def configure_fit(\n",
        "        self,\n",
        "        server_round: int,\n",
        "        parameters: Parameters,\n",
        "        client_manager: ClientManager\n",
        "    ) -> List[Tuple[ClientProxy, FitIns]]:\n",
        "        \"\"\"Configure the next round of training.\"\"\"\n",
        "\n",
        "    @abstractmethod\n",
        "    def aggregate_fit(\n",
        "        self,\n",
        "        server_round: int,\n",
        "        results: List[Tuple[ClientProxy, FitRes]],\n",
        "        failures: List[Union[Tuple[ClientProxy, FitRes], BaseException]],\n",
        "    ) -> Tuple[Optional[Parameters], Dict[str, Scalar]]:\n",
        "        \"\"\"Aggregate training results.\"\"\"\n",
        "\n",
        "    @abstractmethod\n",
        "    def configure_evaluate(\n",
        "        self,\n",
        "        server_round: int,\n",
        "        parameters: Parameters,\n",
        "        client_manager: ClientManager\n",
        "    ) -> List[Tuple[ClientProxy, EvaluateIns]]:\n",
        "        \"\"\"Configure the next round of evaluation.\"\"\"\n",
        "\n",
        "    @abstractmethod\n",
        "    def aggregate_evaluate(\n",
        "        self,\n",
        "        server_round: int,\n",
        "        results: List[Tuple[ClientProxy, EvaluateRes]],\n",
        "        failures: List[Union[Tuple[ClientProxy, FitRes], BaseException]],\n",
        "    ) -> Tuple[Optional[float], Dict[str, Scalar]]:\n",
        "        \"\"\"Aggregate evaluation results.\"\"\"\n",
        "\n",
        "    @abstractmethod\n",
        "    def evaluate(\n",
        "        self, parameters: Parameters\n",
        "    ) -> Optional[Tuple[float, Dict[str, Scalar]]]:\n",
        "        \"\"\"Evaluate the current model parameters.\"\"\""
      ]
    },
    {
      "cell_type": "markdown",
      "source": [
        "Các hàm có mục đích như sau:\n",
        "- initialize_parameters(): Khởi tạo mô hình ban đầu\n",
        "- configure_fit(): Chọn client cũng như config cho mỗi round huấn luyện\n",
        "- aggregate_fit(): tổng hợp các kết quả huấn luyện từ các client\n",
        "- configure_evaluate() và aggregate_evaluate(): tương tự configure_fit() và aggregate_fit()\n",
        "- evaluate(): hàm đánh giá mô hình từ phía server"
      ],
      "metadata": {
        "id": "HDKXGI0okZkg"
      }
    },
    {
      "cell_type": "markdown",
      "source": [
        "Tuy nhiên thay vì viết lại từ đầu, tùy mục đích mà chúng ta muốn Strategy thực hiện mà chúng ta có thể viết một class kế thừa một Strategy có sẵn và viết đè lên các hàm cần thiết (thường là kế thừa FedAvg)"
      ],
      "metadata": {
        "id": "K4p7aG4TlLl7"
      }
    },
    {
      "cell_type": "code",
      "source": [
        "class CustomStrategy(Strategy):\n",
        "    # Nếu chúng ta chỉ cần sửa hàm aggregate_fit chỉ cần viết lại hàm này.\n",
        "    def aggregate_fit(self, server_round, results, failures):\n",
        "        # Your implementation here"
      ],
      "metadata": {
        "id": "S_Y_nhu2kGnF"
      },
      "execution_count": null,
      "outputs": []
    },
    {
      "cell_type": "markdown",
      "source": [
        "# Ví dụ"
      ],
      "metadata": {
        "id": "4MCmcl4Sl8h7"
      }
    },
    {
      "cell_type": "markdown",
      "source": [
        "Đây là Strategy FedCvM viết lại cách tổng hợp các mô hình"
      ],
      "metadata": {
        "id": "Nm9fFYh0mAnR"
      }
    },
    {
      "cell_type": "code",
      "source": [
        "from logging import WARNING\n",
        "from typing import Callable, Dict, List, Optional, Tuple, Union\n",
        "from functools import reduce\n",
        "\n",
        "from flwr.common import (\n",
        "    FitRes,\n",
        "    MetricsAggregationFn,\n",
        "    NDArrays,\n",
        "    Parameters,\n",
        "    Scalar,\n",
        "    ndarrays_to_parameters,\n",
        "    parameters_to_ndarrays,\n",
        ")\n",
        "from flwr.common.logger import log\n",
        "from flwr.server.client_manager import ClientManager\n",
        "from flwr.server.client_proxy import ClientProxy\n",
        "from flwr.server.strategy.fedavg import FedAvg\n",
        "import numpy as np\n",
        "\n",
        "class FedCvM(FedAvg):\n",
        "\n",
        "    def aggregate_impurity(self, results: List[Tuple[NDArrays, int, float]]) -> NDArrays:\n",
        "      sum_CvM = np.sum([CvM for _, _, CvM in results])\n",
        "      weighted_weights = [\n",
        "          [layer * CvM for layer in weights] for weights, _, CvM in results\n",
        "      ]\n",
        "\n",
        "      weights_prime: NDArrays = [\n",
        "          reduce(np.add, layer_updates) / sum_CvM\n",
        "          for layer_updates in zip(*weighted_weights)\n",
        "      ]\n",
        "      return weights_prime\n",
        "\n",
        "    def aggregate_fit(\n",
        "        self,\n",
        "        server_round: int,\n",
        "        results: List[Tuple[ClientProxy, FitRes]],\n",
        "        failures: List[Union[Tuple[ClientProxy, FitRes], BaseException]],\n",
        "    ) -> Tuple[Optional[Parameters], Dict[str, Scalar]]:\n",
        "        if not results:\n",
        "            return None, {}\n",
        "        if not self.accept_failures and failures:\n",
        "            return None, {}\n",
        "\n",
        "        weights_results = [\n",
        "            (parameters_to_ndarrays(fit_res.parameters), fit_res.num_examples, fit_res.metrics['CvM'])\n",
        "            for _, fit_res in results\n",
        "        ]\n",
        "        parameters_aggregated = ndarrays_to_parameters(\n",
        "            self.aggregate_impurity(weights_results)\n",
        "        )\n",
        "\n",
        "        metrics_aggregated = {}\n",
        "        if self.fit_metrics_aggregation_fn:\n",
        "            fit_metrics = [(res.num_examples, res.metrics) for _, res in results]\n",
        "            metrics_aggregated = self.fit_metrics_aggregation_fn(fit_metrics)\n",
        "        elif server_round == 1:  # Only log this warning once\n",
        "            log(WARNING, \"No fit_metrics_aggregation_fn provided\")\n",
        "\n",
        "        return parameters_aggregated, metrics_aggregated"
      ],
      "metadata": {
        "id": "JCrblOzXl-gf"
      },
      "execution_count": null,
      "outputs": []
    },
    {
      "cell_type": "markdown",
      "source": [
        "Cần phải để ý là khi kết quả huấn luyện được gửi từ mô hình về Server có 3 giá trị là parameters - tham số của mô hình, num_examples - số lượng dữ liệu huấn luyện của client, metrics - các tham số custom khác\n",
        "\n",
        "Xem lại hàm fit của class Client như sau:"
      ],
      "metadata": {
        "id": "Riwo5mS0meM1"
      }
    },
    {
      "cell_type": "code",
      "source": [
        "def fit(self, parameters, config):\n",
        "        # Hàm huấn luyện\n",
        "        self.model.set_weights(parameters)\n",
        "        self.model.fit(self.trainset, epochs=1, verbose=VERBOSE)\n",
        "        return self.model.get_weights(), len(self.trainset), {}"
      ],
      "metadata": {
        "id": "qjNmA0K8m48B"
      },
      "execution_count": null,
      "outputs": []
    },
    {
      "cell_type": "markdown",
      "source": [
        "Ta thấy hàm này trả về 3 giá trị tương ứng với 3 giá trị mà hàm aggregate_fit sẽ nhận được. Trong đó '{}' là tương ứng với giá trị metrics. Giá trị metrics này là một dictionary để dễ nhận biết."
      ],
      "metadata": {
        "id": "vCQGyiyrnGyf"
      }
    }
  ]
}
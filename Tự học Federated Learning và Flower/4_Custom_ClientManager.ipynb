{
  "nbformat": 4,
  "nbformat_minor": 0,
  "metadata": {
    "colab": {
      "provenance": []
    },
    "kernelspec": {
      "name": "python3",
      "display_name": "Python 3"
    },
    "language_info": {
      "name": "python"
    }
  },
  "cells": [
    {
      "cell_type": "markdown",
      "source": [
        "# Client Manager là gì?\n",
        "Trong Flower, client manager là một class trừu tượng nhằm điều hành các Flower Client. Đặc biệt tác vụ quan trọng nhất mà chúng ta có thể custom trong ClientManager là cách server chọn client để huấn luyện trên mỗi round. Một client manager cần phải kế thừa từ class ClientManager trong flower và có các hàm dưới đây:"
      ],
      "metadata": {
        "id": "Wl5tUJkr7nKR"
      }
    },
    {
      "cell_type": "code",
      "source": [
        "import flwr as fl\n",
        "from flwr.server.client_manager import ClientManager\n",
        "import threading\n",
        "from abc import ABC, abstractmethod\n",
        "from logging import INFO\n",
        "from flwr.common.logger import log\n",
        "from typing import Dict, List, Optional\n",
        "import random\n",
        "from flwr.server.client_proxy import ClientProxy\n",
        "from flwr.server.criterion import Criterion\n",
        "\n",
        "class SimpleClientManager(ClientManager):\n",
        "    \"\"\"Class clientManager đảm nhận việc xử lý các thông tin liên quan đến các client, như là việc chọn client cho mỗi round, vv\"\"\"\n",
        "\n",
        "    def __init__(self) -> None:\n",
        "        '''Khởi tạo các tham số cần thiết'''\n",
        "    def __len__(self) -> int:\n",
        "        \"\"\"Trả về số client trong mô hình tổng \"\"\"\n",
        "\n",
        "    def num_available(self) -> int:\n",
        "        \"\"\"Trả về số client có thể tham gia vào huấn luyện\"\"\"\n",
        "\n",
        "    def wait_for(self, num_clients: int, timeout: int = 86400) -> bool:\n",
        "        \"\"\"Cài đặt để chờ số client trước khi bắt đầu chọn cho round huấn luyện\"\"\"\n",
        "\n",
        "    def register(self, client: ClientProxy) -> bool:\n",
        "\n",
        "    def unregister(self, client: ClientProxy) -> None:\n",
        "\n",
        "    def all(self) -> Dict[str, ClientProxy]:\n",
        "        \"\"\"Trả về tất cả các client có thể tham gia huấn luyện\"\"\"\n",
        "\n",
        "    def sample(\n",
        "        self,\n",
        "        num_clients: int,\n",
        "        min_num_clients: Optional[int] = None,\n",
        "        criterion: Optional[Criterion] = None,\n",
        "    ) -> List[ClientProxy]:\n",
        "        \"\"\"Chọn các client tham gia vào round huấn luyện\"\"\""
      ],
      "metadata": {
        "id": "wjHCz4az8D0N"
      },
      "execution_count": null,
      "outputs": []
    },
    {
      "cell_type": "markdown",
      "source": [
        "# Ví dụ\n",
        "Đoạn code dưới đây được viết nhằm cố định các client được chọn ở mỗi round bằng cách thêm một giá trị seed vào"
      ],
      "metadata": {
        "id": "qHIf4sYC8HyL"
      }
    },
    {
      "cell_type": "code",
      "source": [
        "class CustomClientManager(ClientManager):\n",
        "    \"\"\"Class clientManager đảm nhận việc xử lý các thông tin liên quan đến các client, như là việc chọn client cho mỗi round, vv\"\"\"\n",
        "\n",
        "    def __init__(self) -> None:\n",
        "        self.clients: Dict[str, ClientProxy] = {}\n",
        "        self._cv = threading.Condition()\n",
        "        self.seed = 0 # cài đặt seed để fix client tham gia mỗi round\n",
        "\n",
        "    def __len__(self) -> int:\n",
        "        \"\"\"Trả về số client trong mô hình tổng\n",
        "        \"\"\"\n",
        "        return len(self.clients)\n",
        "\n",
        "    def num_available(self) -> int:\n",
        "        \"\"\"Trả về số client có thể tham gia vào huấn luyện\n",
        "        \"\"\"\n",
        "        return len(self)\n",
        "\n",
        "    def wait_for(self, num_clients: int, timeout: int = 86400) -> bool:\n",
        "        \"\"\"Cài đặt để chờ số client trước khi bắt đầu chọn cho round huấn luyện\n",
        "        \"\"\"\n",
        "        with self._cv:\n",
        "            return self._cv.wait_for(\n",
        "                lambda: len(self.clients) >= num_clients, timeout=timeout\n",
        "            )\n",
        "\n",
        "    def register(self, client: ClientProxy) -> bool:\n",
        "        if client.cid in self.clients:\n",
        "            return False\n",
        "\n",
        "        self.clients[client.cid] = client\n",
        "        with self._cv:\n",
        "            self._cv.notify_all()\n",
        "\n",
        "        return True\n",
        "\n",
        "    def unregister(self, client: ClientProxy) -> None:\n",
        "        if client.cid in self.clients:\n",
        "            del self.clients[client.cid]\n",
        "\n",
        "            with self._cv:\n",
        "                self._cv.notify_all()\n",
        "\n",
        "    def all(self) -> Dict[str, ClientProxy]:\n",
        "        \"\"\"Trả về tất cả các client có thể tham gia huấn luyện\"\"\"\n",
        "        return self.clients\n",
        "\n",
        "    def sample(\n",
        "        self,\n",
        "        num_clients: int,\n",
        "        min_num_clients: Optional[int] = None,\n",
        "        criterion: Optional[Criterion] = None,\n",
        "    ) -> List[ClientProxy]:\n",
        "        \"\"\"Chọn các client tham gia vào round huấn luyện\"\"\"\n",
        "        # Block until at least num_clients are connected.\n",
        "        random.seed(self.seed)\n",
        "        self.seed += 1 # thay đổi giá trị seed để client được chọn ở mỗi round là khác nhau\n",
        "        if min_num_clients is None:\n",
        "            min_num_clients = num_clients\n",
        "        self.wait_for(min_num_clients)\n",
        "        # Sample clients which meet the criterion\n",
        "        available_cids = list(self.clients)\n",
        "        if criterion is not None:\n",
        "            available_cids = [\n",
        "                cid for cid in available_cids if criterion.select(self.clients[cid])\n",
        "            ]\n",
        "\n",
        "        sampled_cids = random.sample(available_cids, num_clients)\n",
        "        print(sampled_cids)\n",
        "        return [self.clients[cid] for cid in sampled_cids]"
      ],
      "metadata": {
        "id": "CR2xUt0t8T63"
      },
      "execution_count": null,
      "outputs": []
    }
  ]
}